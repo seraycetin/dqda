{
  "cells": [
    {
      "metadata": {},
      "cell_type": "markdown",
      "source": "# Assignment 2 \n## 2.1 Olympics\nAll questions receive equal points.<br>\n<br>\nThe following code loads the olympics dataset (olympics.csv), which was derrived from the Wikipedia entry on [All Time Olympic Games Medals](https://en.wikipedia.org/wiki/All-time_Olympic_Games_medal_table), and does some basic data cleaning.<br>\n<br>\nThe columns are organized as # of Summer games, Summer medals, # of Winter games, Winter medals, total # number of games, total # of medals.<br>\nUse this dataset to answer the questions below."
    },
    {
      "metadata": {
        "nbgrader": {
          "grade": false,
          "grade_id": "1",
          "locked": false,
          "solution": false
        },
        "trusted": true
      },
      "cell_type": "code",
      "source": "import pandas as pd\n\ndf = pd.read_csv('olympics.csv', index_col=0, skiprows=1)\n\nfor col in df.columns:\n    if col[:2]=='01':\n        df.rename(columns={col:col}, inplace=True)\n    if col[:2]=='02':\n        df.rename(columns={col:'Silver'+col[4:]}, inplace=True)\n    if col[:2]=='03':\n        df.rename(columns={col:'Bronze'+col[4:]}, inplace=True)\n    if col[:1]=='№':\n        df.rename(columns={col:'#'+col[1:]}, inplace=True)\n\nnames_ids = df.index.str.split('\\s\\(') # split the index by '('\n\ndf.index = names_ids.str[0] # the [0] element is the country name (new index) \ndf['ID'] = names_ids.str[1].str[:3] # the [1] element is the abbreviation or ID (take first 3 characters from that)\n\ndf = df.drop('Totals')\ndf.head()",
      "execution_count": null,
      "outputs": []
    },
    {
      "metadata": {},
      "cell_type": "markdown",
      "source": "### Question 0\n\nWhat is the first country within the df?\n\n*This function should return a Series.*"
    },
    {
      "metadata": {
        "trusted": true
      },
      "cell_type": "code",
      "source": "# You should write your whole answer within the function provided. The autograder will call\n# this function and compare the return value against the correct solution value\ndef answer_zero():\n    # This function returns the row for Afghanistan, which is a Series object. The assignment\n    # question description will tell you the general format the autograder is expecting\n    return df.iloc[0]\n\n# You can examine what your function returns by calling it in the cell. If you have questions\n# about the assignment formats, check out the discussion forums for any FAQs\nanswer_zero()",
      "execution_count": null,
      "outputs": []
    },
    {
      "metadata": {},
      "cell_type": "markdown",
      "source": "### Question 1\nWhich country has won the most gold medals in summer games?\n\n*This function should return a single string value.*"
    },
    {
      "metadata": {
        "nbgrader": {
          "grade": false,
          "locked": false,
          "solution": false
        },
        "trusted": true
      },
      "cell_type": "code",
      "source": "def answer_one():\n    maximum = max(df['01 !'])\n    temp_df = df.loc[df['01 !'].isin([maximum]), ['01 !']]\n    return temp_df.index[0]\n\nanswer_one()",
      "execution_count": null,
      "outputs": []
    },
    {
      "metadata": {},
      "cell_type": "markdown",
      "source": "### Question 2\nWhich country had the biggest difference between their summer and winter gold medal counts?\n\n*This function should return a single string value.*"
    },
    {
      "metadata": {
        "trusted": true
      },
      "cell_type": "code",
      "source": "def answer_two():\n    temp_df = df[['01 !', '01 !.1']]\n    maximum = 0\n    i = 0\n    while (i < len(temp_df)):\n        maximum_new = temp_df.values[i][0]-temp_df.values[i][1]\n        if(maximum_new > maximum):\n            maximum = maximum_new\n            country = temp_df.index[i]\n        i = i + 1\n    return country\n\nanswer_two()",
      "execution_count": null,
      "outputs": []
    },
    {
      "metadata": {},
      "cell_type": "markdown",
      "source": "### Question 3\nWhich country has the biggest difference between their summer gold medal counts and winter gold medal counts relative to their total gold medal count? \n\n$$\\frac{Summer~Gold - Winter~Gold}{Total~Gold}$$\n\nOnly include countries that have won at least 1 gold in both summer and winter.\n\n*This function should return a single string value.*"
    },
    {
      "metadata": {
        "trusted": true
      },
      "cell_type": "code",
      "source": "def answer_three():\n    temp_df = df[['01 !', '01 !.1', '01 !.2']]\n    maximum = 0\n    i = 0\n    while (i < len(temp_df)):\n        if (temp_df.values[i][0] > 0 and temp_df.values[i][1] > 0):\n            maximum_new = (temp_df.values[i][0]-temp_df.values[i][1])/temp_df.values[i][2]\n            if(maximum_new > maximum):\n                maximum = maximum_new\n                country = temp_df.index[i]\n        i = i + 1\n    return str(country)\n\nanswer_three()",
      "execution_count": null,
      "outputs": []
    },
    {
      "metadata": {},
      "cell_type": "markdown",
      "source": "### Question 4\nWrite a function that creates a Series called \"Points\" which is a weighted value where each gold medal (`Gold.2`) counts for 3 points, silver medals (`Silver.2`) for 2 points, and bronze medals (`Bronze.2`) for 1 point. The function should return only the column (a Series object) which you created.\n\n*This function should return a Series named `Points` of length 146*"
    },
    {
      "metadata": {
        "trusted": true
      },
      "cell_type": "code",
      "source": "def answer_four():\n    Points = pd.Series([])\n    temp_df = df[['01 !.2', 'Silver.2', 'Bronze.2']]\n    i = 0\n    while (i < len(temp_df)):\n        Points[temp_df.index[i]] = (temp_df['01 !.2'][i] * 3) + (temp_df['Silver.2'][i] * 2) + temp_df['Bronze.2'][i]\n        i = i + 1\n    return Points\n\nanswer_four()",
      "execution_count": null,
      "outputs": []
    },
    {
      "metadata": {},
      "cell_type": "markdown",
      "source": "## 2.2 Census\nFor this exercise use census data from the [United States Census Bureau](http://www.census.gov/popest/data/counties/totals/2015/CO-EST2015-alldata.html).<br>\nCounties are political and geographic subdivisions of states in the United States.<br>\nThis dataset contains population data for counties and states in the US from 2010 to 2015. [See this document](http://www.census.gov/popest/data/counties/totals/2015/files/CO-EST2015-alldata.pdf) for a description of the variable names.<br>\n<br>\nThe census dataset (census.csv) can be loaded as censusDF.<br>\n\n### Question 5\nWhich state has the most counties in it?<br>\n(**Hint:** consider the sumlevel key carefully! You'll need this for future questions too...)\n\n*This function should return a single string value.*"
    },
    {
      "metadata": {
        "trusted": true
      },
      "cell_type": "code",
      "source": "censusDF = pd.read_csv('census.csv')\ncensusDF.head()",
      "execution_count": null,
      "outputs": []
    },
    {
      "metadata": {
        "trusted": true
      },
      "cell_type": "code",
      "source": "def answer_five():\n    states_list = censusDF.STNAME.unique()\n    temp_census = censusDF[['COUNTY', 'STNAME']]\n    i = 0\n    states_index = 0\n    count_county = 0\n    max_county = 0\n    while (i < len(states_list)):\n        count_county = len(temp_census[temp_census.STNAME == states_list[0]])\n        if (max_county < count_county):\n            max_county = count_county\n            states_index = i\n        i = i + 1\n    return states_list[states_index]\n\nanswer_five()",
      "execution_count": null,
      "outputs": []
    },
    {
      "metadata": {},
      "cell_type": "markdown",
      "source": "### Question 6\nOnly looking at the three most populous counties for each state, what are the three most populous states (in order of highest population to lowest population)? Use `CENSUS2010POP`.\n\n*This function should return a list of string values.*"
    },
    {
      "metadata": {
        "trusted": true
      },
      "cell_type": "code",
      "source": "def answer_six():\n    return list(censusDF.sort_values(by=['CENSUS2010POP'], ascending=False).head(3).STNAME)\n\nanswer_six()",
      "execution_count": null,
      "outputs": []
    },
    {
      "metadata": {},
      "cell_type": "markdown",
      "source": "### Question 7\nWhich county has had the largest absolute change in population within the period 2010-2015? (Hint: population values are stored in columns POPESTIMATE2010 through POPESTIMATE2015, you need to consider all six columns.)\n\ne.g. If County Population in the 5 year period is 100, 120, 80, 105, 100, 130, then its largest change in the period would be |130-80| = 50.\n\n*This function should return a single string value.*"
    },
    {
      "metadata": {
        "trusted": true
      },
      "cell_type": "code",
      "source": "# liste mit differenzen und von da das max nehmen\n# wie kommen die werte in die liste\n# largest change in the period --> max-min od pop\ndef extract_even():\n    temp_censusDF = censusDF[['POPESTIMATE2010', 'POPESTIMATE2011', 'POPESTIMATE2012', 'POPESTIMATE2013', 'POPESTIMATE2014', 'POPESTIMATE2015']]\n    maximum_period = 0\n    index = 0\n    i = 0\n    while (i < len(temp_censusDF)):\n        diff_period = max(temp_censusDF.values[i]) - min(temp_censusDF.values[i])\n        if(maximum_period < diff_period):\n            maximum_period = diff_period\n            index = i\n        i = i + 1\n    return index",
      "execution_count": null,
      "outputs": []
    },
    {
      "metadata": {
        "trusted": true
      },
      "cell_type": "code",
      "source": "def answer_seven():\n    x = extract_even()\n    return censusDF.STNAME[x]\n\nanswer_seven()",
      "execution_count": null,
      "outputs": []
    },
    {
      "metadata": {},
      "cell_type": "markdown",
      "source": "### Question 8\nIn this datafile, the United States is broken up into four regions using the \"REGION\" column. \n\nCreate a query that finds the counties that belong to regions 1 or 2, whose name starts with 'Washington', and whose POPESTIMATE2015 was greater than their POPESTIMATE 2014.\n\n*This function should return a 5x2 DataFrame with the columns = ['STNAME', 'CTYNAME'] and the same index ID as the census_df (sorted ascending by index).*"
    },
    {
      "metadata": {
        "trusted": true
      },
      "cell_type": "code",
      "source": "def answer_eight():\n    return censusDF[(censusDF.REGION < 3) & ([name.startswith('Washington') for name in censusDF.CTYNAME]) & \n                    ([pop[0] > pop[1] for pop in censusDF[['POPESTIMATE2015','POPESTIMATE2014']].values])][['STNAME', 'CTYNAME']]\n\nanswer_eight()",
      "execution_count": null,
      "outputs": []
    }
  ],
  "metadata": {
    "kernelspec": {
      "name": "python36",
      "display_name": "Python 3.6",
      "language": "python"
    },
    "language_info": {
      "mimetype": "text/x-python",
      "nbconvert_exporter": "python",
      "name": "python",
      "pygments_lexer": "ipython3",
      "version": "3.6.6",
      "file_extension": ".py",
      "codemirror_mode": {
        "version": 3,
        "name": "ipython"
      }
    }
  },
  "nbformat": 4,
  "nbformat_minor": 2
}
