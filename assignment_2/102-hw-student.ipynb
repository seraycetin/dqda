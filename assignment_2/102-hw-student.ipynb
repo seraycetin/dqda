{
  "cells": [
    {
      "metadata": {},
      "cell_type": "markdown",
      "source": "# Assignment 2 \n## 2.1 Olympics\nAll questions receive equal points.<br>\n<br>\nThe following code loads the olympics dataset (olympics.csv), which was derrived from the Wikipedia entry on [All Time Olympic Games Medals](https://en.wikipedia.org/wiki/All-time_Olympic_Games_medal_table), and does some basic data cleaning.<br>\n<br>\nThe columns are organized as # of Summer games, Summer medals, # of Winter games, Winter medals, total # number of games, total # of medals.<br>\nUse this dataset to answer the questions below."
    },
    {
      "metadata": {
        "nbgrader": {
          "grade": false,
          "grade_id": "1",
          "locked": false,
          "solution": false
        },
        "trusted": true
      },
      "cell_type": "code",
      "source": "import pandas as pd\n\ndf = pd.read_csv('olympics.csv', index_col=0, skiprows=1)\n\nfor col in df.columns:\n    if col[:2]=='01':\n        df.rename(columns={col:col}, inplace=True)\n    if col[:2]=='02':\n        df.rename(columns={col:'Silver'+col[4:]}, inplace=True)\n    if col[:2]=='03':\n        df.rename(columns={col:'Bronze'+col[4:]}, inplace=True)\n    if col[:1]=='№':\n        df.rename(columns={col:'#'+col[1:]}, inplace=True)\n\nnames_ids = df.index.str.split('\\s\\(') # split the index by '('\n\ndf.index = names_ids.str[0] # the [0] element is the country name (new index) \ndf['ID'] = names_ids.str[1].str[:3] # the [1] element is the abbreviation or ID (take first 3 characters from that)\n\ndf = df.drop('Totals')\ndf.head()",
      "execution_count": 139,
      "outputs": [
        {
          "output_type": "execute_result",
          "execution_count": 139,
          "data": {
            "text/html": "<div>\n<style scoped>\n    .dataframe tbody tr th:only-of-type {\n        vertical-align: middle;\n    }\n\n    .dataframe tbody tr th {\n        vertical-align: top;\n    }\n\n    .dataframe thead th {\n        text-align: right;\n    }\n</style>\n<table border=\"1\" class=\"dataframe\">\n  <thead>\n    <tr style=\"text-align: right;\">\n      <th></th>\n      <th># Summer</th>\n      <th>01 !</th>\n      <th>Silver</th>\n      <th>Bronze</th>\n      <th>Total</th>\n      <th># Winter</th>\n      <th>01 !.1</th>\n      <th>Silver.1</th>\n      <th>Bronze.1</th>\n      <th>Total.1</th>\n      <th># Games</th>\n      <th>01 !.2</th>\n      <th>Silver.2</th>\n      <th>Bronze.2</th>\n      <th>Combined total</th>\n      <th>ID</th>\n    </tr>\n  </thead>\n  <tbody>\n    <tr>\n      <th>Afghanistan</th>\n      <td>13</td>\n      <td>0</td>\n      <td>0</td>\n      <td>2</td>\n      <td>2</td>\n      <td>0</td>\n      <td>0</td>\n      <td>0</td>\n      <td>0</td>\n      <td>0</td>\n      <td>13</td>\n      <td>0</td>\n      <td>0</td>\n      <td>2</td>\n      <td>2</td>\n      <td>AFG</td>\n    </tr>\n    <tr>\n      <th>Algeria</th>\n      <td>12</td>\n      <td>5</td>\n      <td>2</td>\n      <td>8</td>\n      <td>15</td>\n      <td>3</td>\n      <td>0</td>\n      <td>0</td>\n      <td>0</td>\n      <td>0</td>\n      <td>15</td>\n      <td>5</td>\n      <td>2</td>\n      <td>8</td>\n      <td>15</td>\n      <td>ALG</td>\n    </tr>\n    <tr>\n      <th>Argentina</th>\n      <td>23</td>\n      <td>18</td>\n      <td>24</td>\n      <td>28</td>\n      <td>70</td>\n      <td>18</td>\n      <td>0</td>\n      <td>0</td>\n      <td>0</td>\n      <td>0</td>\n      <td>41</td>\n      <td>18</td>\n      <td>24</td>\n      <td>28</td>\n      <td>70</td>\n      <td>ARG</td>\n    </tr>\n    <tr>\n      <th>Armenia</th>\n      <td>5</td>\n      <td>1</td>\n      <td>2</td>\n      <td>9</td>\n      <td>12</td>\n      <td>6</td>\n      <td>0</td>\n      <td>0</td>\n      <td>0</td>\n      <td>0</td>\n      <td>11</td>\n      <td>1</td>\n      <td>2</td>\n      <td>9</td>\n      <td>12</td>\n      <td>ARM</td>\n    </tr>\n    <tr>\n      <th>Australasia</th>\n      <td>2</td>\n      <td>3</td>\n      <td>4</td>\n      <td>5</td>\n      <td>12</td>\n      <td>0</td>\n      <td>0</td>\n      <td>0</td>\n      <td>0</td>\n      <td>0</td>\n      <td>2</td>\n      <td>3</td>\n      <td>4</td>\n      <td>5</td>\n      <td>12</td>\n      <td>ANZ</td>\n    </tr>\n  </tbody>\n</table>\n</div>",
            "text/plain": "             # Summer  01 !  Silver  Bronze  Total  # Winter  01 !.1  \\\nAfghanistan        13     0       0       2      2         0       0   \nAlgeria            12     5       2       8     15         3       0   \nArgentina          23    18      24      28     70        18       0   \nArmenia             5     1       2       9     12         6       0   \nAustralasia         2     3       4       5     12         0       0   \n\n             Silver.1  Bronze.1  Total.1  # Games  01 !.2  Silver.2  Bronze.2  \\\nAfghanistan         0         0        0       13       0         0         2   \nAlgeria             0         0        0       15       5         2         8   \nArgentina           0         0        0       41      18        24        28   \nArmenia             0         0        0       11       1         2         9   \nAustralasia         0         0        0        2       3         4         5   \n\n             Combined total   ID  \nAfghanistan               2  AFG  \nAlgeria                  15  ALG  \nArgentina                70  ARG  \nArmenia                  12  ARM  \nAustralasia              12  ANZ  "
          },
          "metadata": {}
        }
      ]
    },
    {
      "metadata": {},
      "cell_type": "markdown",
      "source": "### Question 0\n\nWhat is the first country within the df?\n\n*This function should return a Series.*"
    },
    {
      "metadata": {
        "trusted": true
      },
      "cell_type": "code",
      "source": "# You should write your whole answer within the function provided. The autograder will call\n# this function and compare the return value against the correct solution value\ndef answer_zero():\n    # This function returns the row for Afghanistan, which is a Series object. The assignment\n    # question description will tell you the general format the autograder is expecting\n    return df.iloc[0]\n\n# You can examine what your function returns by calling it in the cell. If you have questions\n# about the assignment formats, check out the discussion forums for any FAQs\nanswer_zero()",
      "execution_count": 140,
      "outputs": [
        {
          "output_type": "execute_result",
          "execution_count": 140,
          "data": {
            "text/plain": "# Summer           13\n01 !                0\nSilver              0\nBronze              2\nTotal               2\n# Winter            0\n01 !.1              0\nSilver.1            0\nBronze.1            0\nTotal.1             0\n# Games            13\n01 !.2              0\nSilver.2            0\nBronze.2            2\nCombined total      2\nID                AFG\nName: Afghanistan, dtype: object"
          },
          "metadata": {}
        }
      ]
    },
    {
      "metadata": {},
      "cell_type": "markdown",
      "source": "### Question 1\nWhich country has won the most gold medals in summer games?\n\n*This function should return a single string value.*"
    },
    {
      "metadata": {
        "nbgrader": {
          "grade": false,
          "locked": false,
          "solution": false
        },
        "trusted": true
      },
      "cell_type": "code",
      "source": "def answer_one():\n    maximum = max(df['01 !'])\n    temp_df = df.loc[df['01 !'].isin([maximum]), ['01 !']]\n    return temp_df.index[0]\n\nanswer_one()",
      "execution_count": 141,
      "outputs": [
        {
          "output_type": "execute_result",
          "execution_count": 141,
          "data": {
            "text/plain": "'United States'"
          },
          "metadata": {}
        }
      ]
    },
    {
      "metadata": {},
      "cell_type": "markdown",
      "source": "### Question 2\nWhich country had the biggest difference between their summer and winter gold medal counts?\n\n*This function should return a single string value.*"
    },
    {
      "metadata": {
        "trusted": true
      },
      "cell_type": "code",
      "source": "def answer_two():\n    temp_df = df[['01 !', '01 !.1']]\n    maximum = 0\n    i = 0\n    while (i < len(temp_df)):\n        maximum_new = temp_df.values[i][0]-temp_df.values[i][1]\n        if(maximum_new > maximum):\n            maximum = maximum_new\n            country = temp_df.index[i]\n        i = i + 1\n    return country\n\nanswer_two()",
      "execution_count": 142,
      "outputs": [
        {
          "output_type": "execute_result",
          "execution_count": 142,
          "data": {
            "text/plain": "'United States'"
          },
          "metadata": {}
        }
      ]
    },
    {
      "metadata": {},
      "cell_type": "markdown",
      "source": "### Question 3\nWhich country has the biggest difference between their summer gold medal counts and winter gold medal counts relative to their total gold medal count? \n\n$$\\frac{Summer~Gold - Winter~Gold}{Total~Gold}$$\n\nOnly include countries that have won at least 1 gold in both summer and winter.\n\n*This function should return a single string value.*"
    },
    {
      "metadata": {
        "trusted": true
      },
      "cell_type": "code",
      "source": "def answer_three():\n    temp_df = df[['01 !', '01 !.1', '01 !.2']]\n    maximum = 0\n    i = 0\n    while (i < len(temp_df)):\n        if (temp_df.values[i][0] > 0 and temp_df.values[i][1] > 0):\n            maximum_new = (temp_df.values[i][0]-temp_df.values[i][1])/temp_df.values[i][2]\n            if(maximum_new > maximum):\n                maximum = maximum_new\n                country = temp_df.index[i]\n        i = i + 1\n    return str(country)\n\nanswer_three()",
      "execution_count": 143,
      "outputs": [
        {
          "output_type": "execute_result",
          "execution_count": 143,
          "data": {
            "text/plain": "'Bulgaria'"
          },
          "metadata": {}
        }
      ]
    },
    {
      "metadata": {},
      "cell_type": "markdown",
      "source": "### Question 4\nWrite a function that creates a Series called \"Points\" which is a weighted value where each gold medal (`Gold.2`) counts for 3 points, silver medals (`Silver.2`) for 2 points, and bronze medals (`Bronze.2`) for 1 point. The function should return only the column (a Series object) which you created.\n\n*This function should return a Series named `Points` of length 146*"
    },
    {
      "metadata": {
        "trusted": true
      },
      "cell_type": "code",
      "source": "def answer_four():\n    Points = pd.Series([])\n    temp_df = df[['01 !.2', 'Silver.2', 'Bronze.2']]\n    i = 0\n    while (i < len(temp_df)):\n        Points[temp_df.index[i]] = (temp_df['01 !.2'][i] * 3) + (temp_df['Silver.2'][i] * 2) + temp_df['Bronze.2'][i]\n        i = i + 1\n    return Points\n\nanswer_four()",
      "execution_count": 144,
      "outputs": [
        {
          "output_type": "execute_result",
          "execution_count": 144,
          "data": {
            "text/plain": "Afghanistan                            2\nAlgeria                               27\nArgentina                            130\nArmenia                               16\nAustralasia                           22\nAustralia                            923\nAustria                              569\nAzerbaijan                            43\nBahamas                               24\nBahrain                                1\nBarbados                               1\nBelarus                              154\nBelgium                              276\nBermuda                                1\nBohemia                                5\nBotswana                               2\nBrazil                               184\nBritish West Indies                    2\nBulgaria                             411\nBurundi                                3\nCameroon                              12\nCanada                               846\nChile                                 24\nChina                               1120\nColombia                              29\nCosta Rica                             7\nIvory Coast                            2\nCroatia                               67\nCuba                                 420\nCyprus                                 2\n                                    ... \nSpain                                268\nSri Lanka                              4\nSudan                                  2\nSuriname                               4\nSweden                              1217\nSwitzerland                          630\nSyria                                  6\nChinese Taipei                        32\nTajikistan                             4\nTanzania                               4\nThailand                              44\nTogo                                   1\nTonga                                  2\nTrinidad and Tobago                   27\nTunisia                               19\nTurkey                               191\nUganda                                14\nUkraine                              220\nUnited Arab Emirates                   3\nUnited States                       5684\nUruguay                               16\nUzbekistan                            38\nVenezuela                             18\nVietnam                                4\nVirgin Islands                         2\nYugoslavia                           171\nIndependent Olympic Participants       4\nZambia                                 3\nZimbabwe                              18\nMixed team                            38\nLength: 146, dtype: int64"
          },
          "metadata": {}
        }
      ]
    },
    {
      "metadata": {},
      "cell_type": "markdown",
      "source": "## 2.2 Census\nFor this exercise use census data from the [United States Census Bureau](http://www.census.gov/popest/data/counties/totals/2015/CO-EST2015-alldata.html).<br>\nCounties are political and geographic subdivisions of states in the United States.<br>\nThis dataset contains population data for counties and states in the US from 2010 to 2015. [See this document](http://www.census.gov/popest/data/counties/totals/2015/files/CO-EST2015-alldata.pdf) for a description of the variable names.<br>\n<br>\nThe census dataset (census.csv) can be loaded as censusDF.<br>\n\n### Question 5\nWhich state has the most counties in it?<br>\n(**Hint:** consider the sumlevel key carefully! You'll need this for future questions too...)\n\n*This function should return a single string value.*"
    },
    {
      "metadata": {
        "trusted": true
      },
      "cell_type": "code",
      "source": "censusDF = pd.read_csv('census.csv')\ncensusDF.head()",
      "execution_count": 145,
      "outputs": [
        {
          "output_type": "execute_result",
          "execution_count": 145,
          "data": {
            "text/html": "<div>\n<style scoped>\n    .dataframe tbody tr th:only-of-type {\n        vertical-align: middle;\n    }\n\n    .dataframe tbody tr th {\n        vertical-align: top;\n    }\n\n    .dataframe thead th {\n        text-align: right;\n    }\n</style>\n<table border=\"1\" class=\"dataframe\">\n  <thead>\n    <tr style=\"text-align: right;\">\n      <th></th>\n      <th>SUMLEV</th>\n      <th>REGION</th>\n      <th>DIVISION</th>\n      <th>STATE</th>\n      <th>COUNTY</th>\n      <th>STNAME</th>\n      <th>CTYNAME</th>\n      <th>CENSUS2010POP</th>\n      <th>ESTIMATESBASE2010</th>\n      <th>POPESTIMATE2010</th>\n      <th>...</th>\n      <th>RDOMESTICMIG2011</th>\n      <th>RDOMESTICMIG2012</th>\n      <th>RDOMESTICMIG2013</th>\n      <th>RDOMESTICMIG2014</th>\n      <th>RDOMESTICMIG2015</th>\n      <th>RNETMIG2011</th>\n      <th>RNETMIG2012</th>\n      <th>RNETMIG2013</th>\n      <th>RNETMIG2014</th>\n      <th>RNETMIG2015</th>\n    </tr>\n  </thead>\n  <tbody>\n    <tr>\n      <th>0</th>\n      <td>40</td>\n      <td>3</td>\n      <td>6</td>\n      <td>1</td>\n      <td>0</td>\n      <td>Alabama</td>\n      <td>Alabama</td>\n      <td>4779736</td>\n      <td>4780127</td>\n      <td>4785161</td>\n      <td>...</td>\n      <td>0.002295</td>\n      <td>-0.193196</td>\n      <td>0.381066</td>\n      <td>0.582002</td>\n      <td>-0.467369</td>\n      <td>1.030015</td>\n      <td>0.826644</td>\n      <td>1.383282</td>\n      <td>1.724718</td>\n      <td>0.712594</td>\n    </tr>\n    <tr>\n      <th>1</th>\n      <td>50</td>\n      <td>3</td>\n      <td>6</td>\n      <td>1</td>\n      <td>1</td>\n      <td>Alabama</td>\n      <td>Autauga County</td>\n      <td>54571</td>\n      <td>54571</td>\n      <td>54660</td>\n      <td>...</td>\n      <td>7.242091</td>\n      <td>-2.915927</td>\n      <td>-3.012349</td>\n      <td>2.265971</td>\n      <td>-2.530799</td>\n      <td>7.606016</td>\n      <td>-2.626146</td>\n      <td>-2.722002</td>\n      <td>2.592270</td>\n      <td>-2.187333</td>\n    </tr>\n    <tr>\n      <th>2</th>\n      <td>50</td>\n      <td>3</td>\n      <td>6</td>\n      <td>1</td>\n      <td>3</td>\n      <td>Alabama</td>\n      <td>Baldwin County</td>\n      <td>182265</td>\n      <td>182265</td>\n      <td>183193</td>\n      <td>...</td>\n      <td>14.832960</td>\n      <td>17.647293</td>\n      <td>21.845705</td>\n      <td>19.243287</td>\n      <td>17.197872</td>\n      <td>15.844176</td>\n      <td>18.559627</td>\n      <td>22.727626</td>\n      <td>20.317142</td>\n      <td>18.293499</td>\n    </tr>\n    <tr>\n      <th>3</th>\n      <td>50</td>\n      <td>3</td>\n      <td>6</td>\n      <td>1</td>\n      <td>5</td>\n      <td>Alabama</td>\n      <td>Barbour County</td>\n      <td>27457</td>\n      <td>27457</td>\n      <td>27341</td>\n      <td>...</td>\n      <td>-4.728132</td>\n      <td>-2.500690</td>\n      <td>-7.056824</td>\n      <td>-3.904217</td>\n      <td>-10.543299</td>\n      <td>-4.874741</td>\n      <td>-2.758113</td>\n      <td>-7.167664</td>\n      <td>-3.978583</td>\n      <td>-10.543299</td>\n    </tr>\n    <tr>\n      <th>4</th>\n      <td>50</td>\n      <td>3</td>\n      <td>6</td>\n      <td>1</td>\n      <td>7</td>\n      <td>Alabama</td>\n      <td>Bibb County</td>\n      <td>22915</td>\n      <td>22919</td>\n      <td>22861</td>\n      <td>...</td>\n      <td>-5.527043</td>\n      <td>-5.068871</td>\n      <td>-6.201001</td>\n      <td>-0.177537</td>\n      <td>0.177258</td>\n      <td>-5.088389</td>\n      <td>-4.363636</td>\n      <td>-5.403729</td>\n      <td>0.754533</td>\n      <td>1.107861</td>\n    </tr>\n  </tbody>\n</table>\n<p>5 rows × 100 columns</p>\n</div>",
            "text/plain": "   SUMLEV  REGION  DIVISION  STATE  COUNTY   STNAME         CTYNAME  \\\n0      40       3         6      1       0  Alabama         Alabama   \n1      50       3         6      1       1  Alabama  Autauga County   \n2      50       3         6      1       3  Alabama  Baldwin County   \n3      50       3         6      1       5  Alabama  Barbour County   \n4      50       3         6      1       7  Alabama     Bibb County   \n\n   CENSUS2010POP  ESTIMATESBASE2010  POPESTIMATE2010     ...       \\\n0        4779736            4780127          4785161     ...        \n1          54571              54571            54660     ...        \n2         182265             182265           183193     ...        \n3          27457              27457            27341     ...        \n4          22915              22919            22861     ...        \n\n   RDOMESTICMIG2011  RDOMESTICMIG2012  RDOMESTICMIG2013  RDOMESTICMIG2014  \\\n0          0.002295         -0.193196          0.381066          0.582002   \n1          7.242091         -2.915927         -3.012349          2.265971   \n2         14.832960         17.647293         21.845705         19.243287   \n3         -4.728132         -2.500690         -7.056824         -3.904217   \n4         -5.527043         -5.068871         -6.201001         -0.177537   \n\n   RDOMESTICMIG2015  RNETMIG2011  RNETMIG2012  RNETMIG2013  RNETMIG2014  \\\n0         -0.467369     1.030015     0.826644     1.383282     1.724718   \n1         -2.530799     7.606016    -2.626146    -2.722002     2.592270   \n2         17.197872    15.844176    18.559627    22.727626    20.317142   \n3        -10.543299    -4.874741    -2.758113    -7.167664    -3.978583   \n4          0.177258    -5.088389    -4.363636    -5.403729     0.754533   \n\n   RNETMIG2015  \n0     0.712594  \n1    -2.187333  \n2    18.293499  \n3   -10.543299  \n4     1.107861  \n\n[5 rows x 100 columns]"
          },
          "metadata": {}
        }
      ]
    },
    {
      "metadata": {
        "trusted": true
      },
      "cell_type": "code",
      "source": "def answer_five():\n    states_list = censusDF.STNAME.unique()\n    temp_census = censusDF[['COUNTY', 'STNAME']]\n    i = 0\n    states_index = 0\n    count_county = 0\n    max_county = 0\n    while (i < len(states_list)):\n        count_county = len(temp_census[temp_census.STNAME == states_list[0]])\n        if (max_county < count_county):\n            max_county = count_county\n            states_index = i\n        i = i + 1\n    return states_list[states_index]\n\nanswer_five()",
      "execution_count": 146,
      "outputs": [
        {
          "output_type": "execute_result",
          "execution_count": 146,
          "data": {
            "text/plain": "'Alabama'"
          },
          "metadata": {}
        }
      ]
    },
    {
      "metadata": {},
      "cell_type": "markdown",
      "source": "### Question 6\nOnly looking at the three most populous counties for each state, what are the three most populous states (in order of highest population to lowest population)? Use `CENSUS2010POP`.\n\n*This function should return a list of string values.*"
    },
    {
      "metadata": {
        "trusted": true
      },
      "cell_type": "code",
      "source": "def answer_six():\n    return list(censusDF.sort_values(by=['CENSUS2010POP'], ascending=False).head(3).STNAME)\n\nanswer_six()",
      "execution_count": 147,
      "outputs": [
        {
          "output_type": "execute_result",
          "execution_count": 147,
          "data": {
            "text/plain": "['California', 'Texas', 'New York']"
          },
          "metadata": {}
        }
      ]
    },
    {
      "metadata": {},
      "cell_type": "markdown",
      "source": "### Question 7\nWhich county has had the largest absolute change in population within the period 2010-2015? (Hint: population values are stored in columns POPESTIMATE2010 through POPESTIMATE2015, you need to consider all six columns.)\n\ne.g. If County Population in the 5 year period is 100, 120, 80, 105, 100, 130, then its largest change in the period would be |130-80| = 50.\n\n*This function should return a single string value.*"
    },
    {
      "metadata": {
        "trusted": true
      },
      "cell_type": "code",
      "source": "# liste mit differenzen und von da das max nehmen\n# wie kommen die werte in die liste\n# largest change in the period --> max-min od pop\ndef extract_even():\n    temp_censusDF = censusDF[['POPESTIMATE2010', 'POPESTIMATE2011', 'POPESTIMATE2012', 'POPESTIMATE2013', 'POPESTIMATE2014', 'POPESTIMATE2015']]\n    maximum_period = 0\n    index = 0\n    i = 0\n    while (i < len(temp_censusDF)):\n        diff_period = max(temp_censusDF.values[i]) - min(temp_censusDF.values[i])\n        if(maximum_period < diff_period):\n            maximum_period = diff_period\n            index = i\n        i = i + 1\n    return index",
      "execution_count": 148,
      "outputs": []
    },
    {
      "metadata": {
        "trusted": true
      },
      "cell_type": "code",
      "source": "def answer_seven():\n    x = extract_even()\n    return censusDF.STNAME[x]\n\nanswer_seven()",
      "execution_count": 149,
      "outputs": [
        {
          "output_type": "execute_result",
          "execution_count": 149,
          "data": {
            "text/plain": "'Texas'"
          },
          "metadata": {}
        }
      ]
    },
    {
      "metadata": {},
      "cell_type": "markdown",
      "source": "### Question 8\nIn this datafile, the United States is broken up into four regions using the \"REGION\" column. \n\nCreate a query that finds the counties that belong to regions 1 or 2, whose name starts with 'Washington', and whose POPESTIMATE2015 was greater than their POPESTIMATE 2014.\n\n*This function should return a 5x2 DataFrame with the columns = ['STNAME', 'CTYNAME'] and the same index ID as the census_df (sorted ascending by index).*"
    },
    {
      "metadata": {
        "trusted": true
      },
      "cell_type": "code",
      "source": "def answer_eight():\n    return censusDF[(censusDF.REGION < 3) & ([name.startswith('Washington') for name in censusDF.CTYNAME]) & \n                    ([pop[0] > pop[1] for pop in censusDF[['POPESTIMATE2015','POPESTIMATE2014']].values])][['STNAME', 'CTYNAME']]\n\nanswer_eight()",
      "execution_count": 150,
      "outputs": [
        {
          "output_type": "execute_result",
          "execution_count": 150,
          "data": {
            "text/html": "<div>\n<style scoped>\n    .dataframe tbody tr th:only-of-type {\n        vertical-align: middle;\n    }\n\n    .dataframe tbody tr th {\n        vertical-align: top;\n    }\n\n    .dataframe thead th {\n        text-align: right;\n    }\n</style>\n<table border=\"1\" class=\"dataframe\">\n  <thead>\n    <tr style=\"text-align: right;\">\n      <th></th>\n      <th>STNAME</th>\n      <th>CTYNAME</th>\n    </tr>\n  </thead>\n  <tbody>\n    <tr>\n      <th>896</th>\n      <td>Iowa</td>\n      <td>Washington County</td>\n    </tr>\n    <tr>\n      <th>1419</th>\n      <td>Minnesota</td>\n      <td>Washington County</td>\n    </tr>\n    <tr>\n      <th>2345</th>\n      <td>Pennsylvania</td>\n      <td>Washington County</td>\n    </tr>\n    <tr>\n      <th>2355</th>\n      <td>Rhode Island</td>\n      <td>Washington County</td>\n    </tr>\n    <tr>\n      <th>3163</th>\n      <td>Wisconsin</td>\n      <td>Washington County</td>\n    </tr>\n  </tbody>\n</table>\n</div>",
            "text/plain": "            STNAME            CTYNAME\n896           Iowa  Washington County\n1419     Minnesota  Washington County\n2345  Pennsylvania  Washington County\n2355  Rhode Island  Washington County\n3163     Wisconsin  Washington County"
          },
          "metadata": {}
        }
      ]
    }
  ],
  "metadata": {
    "kernelspec": {
      "name": "python36",
      "display_name": "Python 3.6",
      "language": "python"
    },
    "language_info": {
      "mimetype": "text/x-python",
      "nbconvert_exporter": "python",
      "name": "python",
      "pygments_lexer": "ipython3",
      "version": "3.6.6",
      "file_extension": ".py",
      "codemirror_mode": {
        "version": 3,
        "name": "ipython"
      }
    }
  },
  "nbformat": 4,
  "nbformat_minor": 2
}