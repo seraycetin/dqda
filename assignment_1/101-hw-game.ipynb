{
  "cells": [
    {
      "metadata": {},
      "cell_type": "markdown",
      "source": "# Assignment 1\n\n## 1.1 Random number game\nWrite a game employing **classes** (optionally).<br>\nA random integer between 1 and 25 [1:25] is to be created.<br>\nThe user is asked to guess the number via an adequate method call.<br>\n<br>\nThe user shall be prompted whether the chosen input was greater or less than the random number.<br>\nAlso, the user is given 5 tries to *win* the game.<br>\nThe game allows 5 *rounds* and communicates *victory* (you win) or *loss* (game over).\n<br><br>\n**Note**<br>\nYou can solve the task in any way as long as you employ classes and stick to the above minimum criteria.<br>\nThe operational logic ought to be concise, sparse and efficient.<br>\nUse *try except* to catch errors.<br>\nKeep the DRY principle *Don't Repeat Yourself* in mind!<br>\nWrite *beautifully and legibly*!<br>\nMake the game (user interface) beautiful.<br>"
    },
    {
      "metadata": {
        "trusted": true
      },
      "cell_type": "code",
      "source": "class Game:\n    # Konstruktor\n    def __init__(self, number):\n        self.__random_number = number\n    \n    # überprüfe die Eingabe mit der Randomzahl\n    def play(self, eingabe):\n        if self.__random_number == eingabe:\n            ergebnis = 1\n        if self.__random_number > eingabe:\n            ergebnis = 2\n        if self.__random_number < eingabe:\n            ergebnis = 3\n        return ergebnis\n\n    def user_message(self, ergebnis):\n        if ergebnis == 1:\n            message = '== YOU WIN =='\n        if ergebnis == 2:\n            message = 'Your input is too low, try again.'\n        if ergebnis == 3:\n            message = 'Your input is too high, try again.'\n        return message\n\n# random integer\nfrom random import randint\nagain = 'y'\nwhile (again == 'y' or again == 'Y'):\n    spiel = Game(randint(1, 25))    # erstelle objekt\n    print ('Rules: Find the random number (1-25) in 5 rounds.')\n\n    # Schleife: durchläuft 5 mal bzw. bis die Zahl richtig erraten wird\n    i = 0\n    while i < 5:\n        eingabe = input(\"Round #\" + str(i+1) + \" - guess the number: \")\n        # Eingabe Fehler abfangen\n        try: \n            int(eingabe)\n            ergebnis = spiel.play(int(eingabe))\n            print(spiel.user_message(ergebnis))\n            if ergebnis == 1:\n                break\n            i = i + 1   # erhöhe i für die Schleife\n        except ValueError: \n            print ('ERROR: Your input has to be a number!')\n            \n    if i == 5:\n        print('== GAME OVER! ==')\n    \n    print('')\n    again = input('Do you wanna play again? (y/n) ')",
      "execution_count": 1,
      "outputs": [
        {
          "output_type": "stream",
          "text": "Rules: Find the random number (1-25) in 5 rounds.\nRound #1 - guess the number: 10\nYour input is too low, try again.\nRound #2 - guess the number: 15\nYour input is too low, try again.\nRound #3 - guess the number: 20\n== YOU WIN ==\n\nDo you wanna play again? (y/n) y\nRules: Find the random number (1-25) in 5 rounds.\nRound #1 - guess the number: 5\nYour input is too low, try again.\nRound #2 - guess the number: 10\nYour input is too low, try again.\nRound #3 - guess the number: 20\nYour input is too low, try again.\nRound #4 - guess the number: 22\nYour input is too high, try again.\nRound #5 - guess the number: 25\nYour input is too high, try again.\n== GAME OVER! ==\n\nDo you wanna play again? (y/n) n\n",
          "name": "stdout"
        }
      ]
    },
    {
      "metadata": {},
      "cell_type": "markdown",
      "source": "## 1.2 Rock, paper, scissors\nCreate a game class for this exercise.<br>\nAsk the user to choose between *rock, paper or scissors* (r,p,s) via a method.<br>\n<br>\nReturn whether the user won or lost.<br>\nIn the case of a draw return `DRAW`.<br>\nHandle incorrect input gracefully with *try except* and prompt the user for correct input.<br>\n<br>\nThe game should last for 3 rounds (best of three).<br>\nKeep count of the score during the game and return it to the user.<br>\nInclude a *tiebreaker* for equal score scenarios.<br>\nThis should prolong the game until a clear victor emerges.<br>\n<br>\n**Note**<br>\nWrite *beautifully and legibly*!<br>\nKeep it short simple!<br>\nWork with classes and methods.<br>\nDRY.\nThink about appropriate loops.<br>\nMake the game (user interface) beautiful.<br>\n<br>\n**Optional extra points**<br>\nExtend *Rock, paper, scissors* with *lizard, Spock*! "
    },
    {
      "metadata": {
        "trusted": true
      },
      "cell_type": "code",
      "source": "class Game:\n    \n    def __init__(self):\n        self._liste = ['Rock', 'Paper', 'Scissors', 'Lizard', 'Spock']\n        self._userpkt = 0\n        self._computerpkt = 0\n    \n    def get_userpkt(self):\n        return self._userpkt\n    \n    def get_computerpkt(self):\n        return self._computerpkt\n    \n    def get_draw(self, player, computer):\n        return 'DRAW (Player - Computer): ' + self._liste[player] + ' - ' + self._liste[computer]\n\n    def get_result(self, player, computer):\n        if(computer > player):\n            return 'YOU LOSE!'\n        else:\n            return 'YOU WIN!'\n    \n    def play(self, player, computer):\n        if player == computer:\n            print('Tie-Break')\n            return\n            \n        elif(player == 0):    # player: Rock\n            if(computer == 1 or computer == 4) : #computer: paper or spock\n                self._computerpkt = self._computerpkt + 1\n                return\n            if(computer == 2 or computer == 3):  #computer: scissors or lizard\n                self._userpkt = self._userpkt + 1\n                return\n            \n        elif(player == 1):    #player: paper\n            if(computer == 0 or computer == 4):  #computer: rock or spock\n                self._userpkt = self._userpkt + 1\n                return\n            if(computer == 2 or computer == 3):  #computer: scissors or lizard\n                self._computerpkt = self._computerpkt + 1\n                return\n            \n        elif(player == 2):    #player: scissors\n            if(computer == 0 or computer == 4):  #computer: rock or spock\n                self._computerpkt = self._computerpkt + 1\n                return\n            if(computer == 1 or computer == 3) : #computer: paper or lizard\n                self._userpkt = self._userpkt + 1\n                return\n\n        elif(player == 3):  # player lizard\n            if(computer == 0 or computer == 2):  #computer: rock or scissors\n                self._computerpkt = self._computerpkt + 1\n                return\n            if(computer == 1 or computer == 4) : #computer: paper or spock\n                self._userpkt = self._userpkt + 1\n                return\n\n        elif(player == 4):  # player spock\n            if(computer == 0 or computer == 2):  #computer: rock or scissors\n                self._userpkt = self._userpkt + 1\n                return\n            if(computer == 1 or computer == 3) : #computer: paper or lizard\n                self._computerpkt = self._computerpkt + 1\n                return\n\n# Main\nfrom random import randint\nagain = 'y'\nwhile (again == 'y' or again == 'Y'):\n    spiel = Game()\n    runde = True\n    while (runde):\n        print(' 0 - Rock | 1 - Paper | 2 - Scissors | 3 - Lizard | 4 - Spock')\n        player = input('Choose: ')\n        # Eingabe überprüfen\n        try: \n            int(player)\n            if (0 <= int(player) and int(player) < 5):\n                computer = randint(0, 4)\n                print(spiel.get_draw(int (player), computer))\n                spiel.play(int (player), computer)\n                print('SCORE (Player - Computer): ' + str(spiel.get_userpkt()) + ' - ' + str(spiel.get_computerpkt()))\n            else: \n                print ('ERROR: That is not possible!')\n        except ValueError: \n            print ('ERROR: Your input has to be a number!')\n\n        if (spiel.get_computerpkt() + spiel.get_userpkt() > 3):\n            runde = False\n        elif (spiel.get_computerpkt() == 2 or spiel.get_userpkt() == 2):\n            runde = False\n    print(spiel.get_result(spiel.get_userpkt(), spiel.get_computerpkt()))\n    print('')\n    again = input('Do you wanna play again? (y/n) ')",
      "execution_count": 3,
      "outputs": [
        {
          "output_type": "stream",
          "text": " 0 - Rock | 1 - Paper | 2 - Scissors | 3 - Lizard | 4 - Spock\nChoose: 0\nDRAW (Player - Computer): Rock - Scissors\nSCORE (Player - Computer): 1 - 0\n 0 - Rock | 1 - Paper | 2 - Scissors | 3 - Lizard | 4 - Spock\nChoose: 1\nDRAW (Player - Computer): Paper - Scissors\nSCORE (Player - Computer): 1 - 1\n 0 - Rock | 1 - Paper | 2 - Scissors | 3 - Lizard | 4 - Spock\nChoose: 1\nDRAW (Player - Computer): Paper - Rock\nSCORE (Player - Computer): 2 - 1\nYOU WIN!\n\nDo you wanna play again? (y/n) n\n",
          "name": "stdout"
        }
      ]
    }
  ],
  "metadata": {
    "anaconda-cloud": {},
    "coursera": {
      "course_slug": "python-data-analysis",
      "graded_item_id": "tHmgx",
      "launcher_item_id": "Um6Bz",
      "part_id": "OQsnr"
    },
    "kernelspec": {
      "name": "python36",
      "display_name": "Python 3.6",
      "language": "python"
    },
    "language_info": {
      "mimetype": "text/x-python",
      "nbconvert_exporter": "python",
      "name": "python",
      "pygments_lexer": "ipython3",
      "version": "3.6.6",
      "file_extension": ".py",
      "codemirror_mode": {
        "version": 3,
        "name": "ipython"
      }
    }
  },
  "nbformat": 4,
  "nbformat_minor": 1
}
