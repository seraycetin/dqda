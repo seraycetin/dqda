{
  "cells": [
    {
      "metadata": {},
      "cell_type": "markdown",
      "source": "# Assignment 5\n## Energy\nYou are encouraged to check out the [pandas documentation](http://pandas.pydata.org/pandas-docs/stable/) to find functions or methods you might not have used yet, or ask questions on [Stack Overflow](http://stackoverflow.com/) and tag them as pandas and python related. And of course, the discussion forums are open for interaction with your peers and the course staff."
    },
    {
      "metadata": {},
      "cell_type": "markdown",
      "source": "### Question 1 (20%)\nLoad the energy data from the file `Energy Indicators.xls`, which is a list of indicators of [energy supply and renewable electricity production](Energy%20Indicators.xls) from the [United Nations](http://unstats.un.org/unsd/environment/excel_file_tables/2013/Energy%20Indicators.xls) for the year 2013, and should be put into a DataFrame with the variable name of **energy**.\n\nKeep in mind that this is an Excel file, and not a comma separated values file. Also, make sure to exclude the footer and header information from the datafile. The first two columns are unneccessary, so you should get rid of them, and you should change the column labels so that the columns are:\n\n`['Country', 'Energy Supply', 'Energy Supply per Capita', '% Renewable']`\n\nConvert `Energy Supply` to gigajoules (there are 1,000,000 gigajoules in a petajoule). For all countries which have missing data (e.g. data with \"...\") make sure this is reflected as `np.NaN` values.\n\nRename the following list of countries (for use in later questions):\n\n```\"Republic of Korea\": \"South Korea\",\n\"United States of America\": \"United States\",\n\"United Kingdom of Great Britain and Northern Ireland\": \"United Kingdom\",\n\"China, Hong Kong Special Administrative Region\": \"Hong Kong\"```\n\nThere are also several countries with numbers and/or parenthesis in their name. Be sure to remove these, \n\ne.g. \n\n`'Bolivia (Plurinational State of)'` should be `'Bolivia'`, \n\n`'Switzerland17'` should be `'Switzerland'`.\n\n<br>\n\nNext, load the GDP data from the file `world_bank.csv`, which is a csv containing countries' GDP from 1960 to 2015 from [World Bank](http://data.worldbank.org/indicator/NY.GDP.MKTP.CD). Call this DataFrame **GDP**. \n\nMake sure to skip the header, and rename the following list of countries:\n\n```\"Korea, Rep.\": \"South Korea\", \n\"Iran, Islamic Rep.\": \"Iran\",\n\"Hong Kong SAR, China\": \"Hong Kong\"```\n\n<br>\n\nFinally, load the [Sciamgo Journal and Country Rank data for Energy Engineering and Power Technology](http://www.scimagojr.com/countryrank.php?category=2102) from the file `scimagojr-3.xlsx`, which ranks countries based on their journal contributions in the aforementioned area. Call this DataFrame **ScimEn**.\n\nJoin the three datasets: GDP, Energy, and ScimEn into a new dataset (using the intersection of country names). Use only the last 10 years (2006-2015) of GDP data and only the top 15 countries by Scimagojr 'Rank' (Rank 1 through 15). \n\nThe index of this DataFrame should be the name of the country, and the columns should be ['Rank', 'Documents', 'Citable documents', 'Citations', 'Self-citations',\n       'Citations per document', 'H index', 'Energy Supply',\n       'Energy Supply per Capita', '% Renewable', '2006', '2007', '2008',\n       '2009', '2010', '2011', '2012', '2013', '2014', '2015'].\n\n*This function should return a DataFrame with 20 columns and 15 entries.*"
    },
    {
      "metadata": {},
      "cell_type": "markdown",
      "source": "https://github.com/MaxPoon/coursera-Applied-Data-Science-with-Python/blob/master/Introduction-to-Data-Science-in-Python/week3/Assignment3.py"
    },
    {
      "metadata": {
        "trusted": true
      },
      "cell_type": "code",
      "source": "import pandas as pd\nimport numpy as np\nimport re\n\n# Excel einlesen\ndf = pd.read_excel(\"Energy Indicators.xls\")\n\n# Lösche Spalten\ndel df['Unnamed: 0']\ndel df['Unnamed: 1']\n\n# Spalten umbennen\ncolumns = ['Country', 'Energy Supply', 'Energy Supply per Capita', '% Renewable']\ndf.columns = columns\ndf_temp = df.loc[16:242]\n\n# Convert Energy Supply to gigajoules\nenergy_suply = []\ni = 16\nwhile (i < 243):\n    if(df_temp['Energy Supply'][i] == '...'):\n        energy_suply.append(np.NaN)\n    else:\n        energy_suply.append(df_temp['Energy Supply'][i] * 1000000)\n    i = i + 1\n\n# Rename countries\ndf_temp = df_temp.replace({\n    'Republic of Korea': 'South Korea', \n    'United States of America20': 'United States', \n    'United Kingdom of Great Britain and Northern Ireland19': 'United Kingdom',\n    'China, Hong Kong Special Administrative Region3': 'Hong Kong'})\n\n# Remove numbers and/or parenthesis from countries\ncountries = list(df_temp.Country)\ni = 0\nwhile (i < len(countries)):\n    countries[i] = re.sub(r'\\([^)]*\\)', '', countries[i])\n    countries[i] = re.sub(r'[0-9]', '', countries[i])\n    i = i + 1\n\nenergy = pd.DataFrame()\nenergy['Country'] = countries\nenergy['Energy Supply'] = energy_suply\nenergy['Energy Supply per Capita'] = list(df_temp['Energy Supply per Capita'])\nenergy['% Renewable'] = list(df_temp['% Renewable'])\n\n# CSV einlesen\nGDP = pd.read_csv(\"world_bank.csv\", skiprows=4)\nGDP.rename(columns={'Country Name': 'Country'}, inplace=True)\n\n# Rename countries\nGDP = GDP.replace({\n    'Korea, Rep.': 'South Korea', \n    'Iran, Islamic Rep.': 'Iran',\n    'Hong Kong SAR, China': 'Hong Kong'})\n\n# Excel einlesen\nScimEn = pd.read_excel(\"scimagojr.xlsx\")",
      "execution_count": 86,
      "outputs": []
    },
    {
      "metadata": {
        "umich_part_id": "009",
        "umich_partlist_id": "003",
        "trusted": true
      },
      "cell_type": "code",
      "source": "def answer_one():   \n    # Join --> inner join verwenden\n    result = ScimEn.set_index('Country')[['Rank', 'Documents', 'Citable documents', 'Citations', 'Self-citations', 'Citations per document', 'H index']].join(energy.set_index('Country')[['Energy Supply', 'Energy Supply per Capita', '% Renewable']].join\n                                          (GDP.set_index('Country')[['2006', '2007', '2008', '2009', '2010', '2011', '2012', '2013', '2014', '2015']], how='inner'), how='inner')    \n    return result[result.Rank < 16]\n\nanswer_one()",
      "execution_count": 87,
      "outputs": [
        {
          "output_type": "execute_result",
          "execution_count": 87,
          "data": {
            "text/plain": "                    Rank  Documents  Citable documents  Citations  \\\nCountry                                                             \nAustralia             14      12635              12397     157471   \nBrazil                13      12705              12559      99136   \nCanada                 8      22908              22465     332093   \nChina                  1     167992             167369    1057626   \nGermany                6      24407              23963     231800   \nSpain                 15      12478              12270     195663   \nFrance                 9      17569              17230     203486   \nUnited Kingdom         4      28998              28176     335914   \nIndia                  5      24872              24300     215787   \nItaly                 11      15880              15411     184184   \nJapan                  3      37948              37612     316956   \nSouth Korea           10      16004              15848     176965   \nRussian Federation     7      23361              23196      55495   \nUnited States          2     126158             123332    1296212   \n\n                    Self-citations  Citations per document  H index  \\\nCountry                                                               \nAustralia                    27620                   12.46      131   \nBrazil                       24398                    7.80      103   \nCanada                       62436                   14.50      177   \nChina                       722578                    6.30      176   \nGermany                      48820                    9.50      151   \nSpain                        36353                   15.68      138   \nFrance                       43210                   11.58      139   \nUnited Kingdom               64609                   11.58      170   \nIndia                        68150                    8.68      141   \nItaly                        45471                   11.60      127   \nJapan                        85620                    8.35      155   \nSouth Korea                  34607                   11.06      124   \nRussian Federation           22485                    2.38       69   \nUnited States               444998                   10.27      278   \n\n                    Energy Supply Energy Supply per Capita  % Renewable  \\\nCountry                                                                   \nAustralia            5.386000e+09                      231    11.810810   \nBrazil               1.214900e+10                       59    69.648030   \nCanada               1.043100e+10                      296    61.945430   \nChina                1.271910e+11                       93    19.754910   \nGermany              1.326100e+10                      165    17.901530   \nSpain                4.923000e+09                      106    37.968590   \nFrance               1.059700e+10                      166    17.020280   \nUnited Kingdom       7.920000e+09                      124    10.600470   \nIndia                3.319500e+10                       26    14.969080   \nItaly                6.530000e+09                      109    33.667230   \nJapan                1.898400e+10                      149    10.232820   \nSouth Korea          1.100700e+10                      221     2.279353   \nRussian Federation   3.070900e+10                      214    17.288680   \nUnited States        9.083800e+10                      286    11.570980   \n\n                            2006          2007          2008          2009  \\\nCountry                                                                      \nAustralia           1.021939e+12  1.060340e+12  1.099644e+12  1.119654e+12   \nBrazil              1.845080e+12  1.957118e+12  2.056809e+12  2.054215e+12   \nCanada              1.564469e+12  1.596740e+12  1.612713e+12  1.565145e+12   \nChina               3.992331e+12  4.559041e+12  4.997775e+12  5.459247e+12   \nGermany             3.332891e+12  3.441561e+12  3.478809e+12  3.283340e+12   \nSpain               1.414823e+12  1.468146e+12  1.484530e+12  1.431475e+12   \nFrance              2.607840e+12  2.669424e+12  2.674637e+12  2.595967e+12   \nUnited Kingdom      2.419631e+12  2.482203e+12  2.470614e+12  2.367048e+12   \nIndia               1.265894e+12  1.374865e+12  1.428361e+12  1.549483e+12   \nItaly               2.202170e+12  2.234627e+12  2.211154e+12  2.089938e+12   \nJapan               5.496542e+12  5.617036e+12  5.558527e+12  5.251308e+12   \nSouth Korea         9.410199e+11  9.924316e+11  1.020510e+12  1.027730e+12   \nRussian Federation  1.385793e+12  1.504071e+12  1.583004e+12  1.459199e+12   \nUnited States       1.479230e+13  1.505540e+13  1.501149e+13  1.459484e+13   \n\n                            2010          2011          2012          2013  \\\nCountry                                                                      \nAustralia           1.142251e+12  1.169431e+12  1.211913e+12  1.241484e+12   \nBrazil              2.208872e+12  2.295245e+12  2.339209e+12  2.409740e+12   \nCanada              1.613406e+12  1.664087e+12  1.693133e+12  1.730688e+12   \nChina               6.039659e+12  6.612490e+12  7.124978e+12  7.672448e+12   \nGermany             3.417298e+12  3.542371e+12  3.556724e+12  3.567317e+12   \nSpain               1.431673e+12  1.417355e+12  1.380216e+12  1.357139e+12   \nFrance              2.646995e+12  2.702032e+12  2.706968e+12  2.722567e+12   \nUnited Kingdom      2.403504e+12  2.450911e+12  2.479809e+12  2.533370e+12   \nIndia               1.708459e+12  1.821872e+12  1.924235e+12  2.051982e+12   \nItaly               2.125185e+12  2.137439e+12  2.077184e+12  2.040871e+12   \nJapan               5.498718e+12  5.473738e+12  5.569102e+12  5.644659e+12   \nSouth Korea         1.094499e+12  1.134796e+12  1.160809e+12  1.194429e+12   \nRussian Federation  1.524917e+12  1.589943e+12  1.645876e+12  1.666934e+12   \nUnited States       1.496437e+13  1.520402e+13  1.554216e+13  1.577367e+13   \n\n                            2014          2015  \nCountry                                         \nAustralia           1.272520e+12  1.301251e+12  \nBrazil              2.412231e+12  2.319423e+12  \nCanada              1.773486e+12  1.792609e+12  \nChina               8.230121e+12  8.797999e+12  \nGermany             3.624386e+12  3.685556e+12  \nSpain               1.375605e+12  1.419821e+12  \nFrance              2.729632e+12  2.761185e+12  \nUnited Kingdom      2.605643e+12  2.666333e+12  \nIndia               2.200617e+12  2.367206e+12  \nItaly               2.033868e+12  2.049316e+12  \nJapan               5.642884e+12  5.669563e+12  \nSouth Korea         1.234340e+12  1.266580e+12  \nRussian Federation  1.678709e+12  1.616149e+12  \nUnited States       1.615662e+13  1.654857e+13  ",
            "text/html": "<div>\n<table border=\"1\" class=\"dataframe\">\n  <thead>\n    <tr style=\"text-align: right;\">\n      <th></th>\n      <th>Rank</th>\n      <th>Documents</th>\n      <th>Citable documents</th>\n      <th>Citations</th>\n      <th>Self-citations</th>\n      <th>Citations per document</th>\n      <th>H index</th>\n      <th>Energy Supply</th>\n      <th>Energy Supply per Capita</th>\n      <th>% Renewable</th>\n      <th>2006</th>\n      <th>2007</th>\n      <th>2008</th>\n      <th>2009</th>\n      <th>2010</th>\n      <th>2011</th>\n      <th>2012</th>\n      <th>2013</th>\n      <th>2014</th>\n      <th>2015</th>\n    </tr>\n    <tr>\n      <th>Country</th>\n      <th></th>\n      <th></th>\n      <th></th>\n      <th></th>\n      <th></th>\n      <th></th>\n      <th></th>\n      <th></th>\n      <th></th>\n      <th></th>\n      <th></th>\n      <th></th>\n      <th></th>\n      <th></th>\n      <th></th>\n      <th></th>\n      <th></th>\n      <th></th>\n      <th></th>\n      <th></th>\n    </tr>\n  </thead>\n  <tbody>\n    <tr>\n      <th>Australia</th>\n      <td>14</td>\n      <td>12635</td>\n      <td>12397</td>\n      <td>157471</td>\n      <td>27620</td>\n      <td>12.46</td>\n      <td>131</td>\n      <td>5.386000e+09</td>\n      <td>231</td>\n      <td>11.810810</td>\n      <td>1.021939e+12</td>\n      <td>1.060340e+12</td>\n      <td>1.099644e+12</td>\n      <td>1.119654e+12</td>\n      <td>1.142251e+12</td>\n      <td>1.169431e+12</td>\n      <td>1.211913e+12</td>\n      <td>1.241484e+12</td>\n      <td>1.272520e+12</td>\n      <td>1.301251e+12</td>\n    </tr>\n    <tr>\n      <th>Brazil</th>\n      <td>13</td>\n      <td>12705</td>\n      <td>12559</td>\n      <td>99136</td>\n      <td>24398</td>\n      <td>7.80</td>\n      <td>103</td>\n      <td>1.214900e+10</td>\n      <td>59</td>\n      <td>69.648030</td>\n      <td>1.845080e+12</td>\n      <td>1.957118e+12</td>\n      <td>2.056809e+12</td>\n      <td>2.054215e+12</td>\n      <td>2.208872e+12</td>\n      <td>2.295245e+12</td>\n      <td>2.339209e+12</td>\n      <td>2.409740e+12</td>\n      <td>2.412231e+12</td>\n      <td>2.319423e+12</td>\n    </tr>\n    <tr>\n      <th>Canada</th>\n      <td>8</td>\n      <td>22908</td>\n      <td>22465</td>\n      <td>332093</td>\n      <td>62436</td>\n      <td>14.50</td>\n      <td>177</td>\n      <td>1.043100e+10</td>\n      <td>296</td>\n      <td>61.945430</td>\n      <td>1.564469e+12</td>\n      <td>1.596740e+12</td>\n      <td>1.612713e+12</td>\n      <td>1.565145e+12</td>\n      <td>1.613406e+12</td>\n      <td>1.664087e+12</td>\n      <td>1.693133e+12</td>\n      <td>1.730688e+12</td>\n      <td>1.773486e+12</td>\n      <td>1.792609e+12</td>\n    </tr>\n    <tr>\n      <th>China</th>\n      <td>1</td>\n      <td>167992</td>\n      <td>167369</td>\n      <td>1057626</td>\n      <td>722578</td>\n      <td>6.30</td>\n      <td>176</td>\n      <td>1.271910e+11</td>\n      <td>93</td>\n      <td>19.754910</td>\n      <td>3.992331e+12</td>\n      <td>4.559041e+12</td>\n      <td>4.997775e+12</td>\n      <td>5.459247e+12</td>\n      <td>6.039659e+12</td>\n      <td>6.612490e+12</td>\n      <td>7.124978e+12</td>\n      <td>7.672448e+12</td>\n      <td>8.230121e+12</td>\n      <td>8.797999e+12</td>\n    </tr>\n    <tr>\n      <th>Germany</th>\n      <td>6</td>\n      <td>24407</td>\n      <td>23963</td>\n      <td>231800</td>\n      <td>48820</td>\n      <td>9.50</td>\n      <td>151</td>\n      <td>1.326100e+10</td>\n      <td>165</td>\n      <td>17.901530</td>\n      <td>3.332891e+12</td>\n      <td>3.441561e+12</td>\n      <td>3.478809e+12</td>\n      <td>3.283340e+12</td>\n      <td>3.417298e+12</td>\n      <td>3.542371e+12</td>\n      <td>3.556724e+12</td>\n      <td>3.567317e+12</td>\n      <td>3.624386e+12</td>\n      <td>3.685556e+12</td>\n    </tr>\n    <tr>\n      <th>Spain</th>\n      <td>15</td>\n      <td>12478</td>\n      <td>12270</td>\n      <td>195663</td>\n      <td>36353</td>\n      <td>15.68</td>\n      <td>138</td>\n      <td>4.923000e+09</td>\n      <td>106</td>\n      <td>37.968590</td>\n      <td>1.414823e+12</td>\n      <td>1.468146e+12</td>\n      <td>1.484530e+12</td>\n      <td>1.431475e+12</td>\n      <td>1.431673e+12</td>\n      <td>1.417355e+12</td>\n      <td>1.380216e+12</td>\n      <td>1.357139e+12</td>\n      <td>1.375605e+12</td>\n      <td>1.419821e+12</td>\n    </tr>\n    <tr>\n      <th>France</th>\n      <td>9</td>\n      <td>17569</td>\n      <td>17230</td>\n      <td>203486</td>\n      <td>43210</td>\n      <td>11.58</td>\n      <td>139</td>\n      <td>1.059700e+10</td>\n      <td>166</td>\n      <td>17.020280</td>\n      <td>2.607840e+12</td>\n      <td>2.669424e+12</td>\n      <td>2.674637e+12</td>\n      <td>2.595967e+12</td>\n      <td>2.646995e+12</td>\n      <td>2.702032e+12</td>\n      <td>2.706968e+12</td>\n      <td>2.722567e+12</td>\n      <td>2.729632e+12</td>\n      <td>2.761185e+12</td>\n    </tr>\n    <tr>\n      <th>United Kingdom</th>\n      <td>4</td>\n      <td>28998</td>\n      <td>28176</td>\n      <td>335914</td>\n      <td>64609</td>\n      <td>11.58</td>\n      <td>170</td>\n      <td>7.920000e+09</td>\n      <td>124</td>\n      <td>10.600470</td>\n      <td>2.419631e+12</td>\n      <td>2.482203e+12</td>\n      <td>2.470614e+12</td>\n      <td>2.367048e+12</td>\n      <td>2.403504e+12</td>\n      <td>2.450911e+12</td>\n      <td>2.479809e+12</td>\n      <td>2.533370e+12</td>\n      <td>2.605643e+12</td>\n      <td>2.666333e+12</td>\n    </tr>\n    <tr>\n      <th>India</th>\n      <td>5</td>\n      <td>24872</td>\n      <td>24300</td>\n      <td>215787</td>\n      <td>68150</td>\n      <td>8.68</td>\n      <td>141</td>\n      <td>3.319500e+10</td>\n      <td>26</td>\n      <td>14.969080</td>\n      <td>1.265894e+12</td>\n      <td>1.374865e+12</td>\n      <td>1.428361e+12</td>\n      <td>1.549483e+12</td>\n      <td>1.708459e+12</td>\n      <td>1.821872e+12</td>\n      <td>1.924235e+12</td>\n      <td>2.051982e+12</td>\n      <td>2.200617e+12</td>\n      <td>2.367206e+12</td>\n    </tr>\n    <tr>\n      <th>Italy</th>\n      <td>11</td>\n      <td>15880</td>\n      <td>15411</td>\n      <td>184184</td>\n      <td>45471</td>\n      <td>11.60</td>\n      <td>127</td>\n      <td>6.530000e+09</td>\n      <td>109</td>\n      <td>33.667230</td>\n      <td>2.202170e+12</td>\n      <td>2.234627e+12</td>\n      <td>2.211154e+12</td>\n      <td>2.089938e+12</td>\n      <td>2.125185e+12</td>\n      <td>2.137439e+12</td>\n      <td>2.077184e+12</td>\n      <td>2.040871e+12</td>\n      <td>2.033868e+12</td>\n      <td>2.049316e+12</td>\n    </tr>\n    <tr>\n      <th>Japan</th>\n      <td>3</td>\n      <td>37948</td>\n      <td>37612</td>\n      <td>316956</td>\n      <td>85620</td>\n      <td>8.35</td>\n      <td>155</td>\n      <td>1.898400e+10</td>\n      <td>149</td>\n      <td>10.232820</td>\n      <td>5.496542e+12</td>\n      <td>5.617036e+12</td>\n      <td>5.558527e+12</td>\n      <td>5.251308e+12</td>\n      <td>5.498718e+12</td>\n      <td>5.473738e+12</td>\n      <td>5.569102e+12</td>\n      <td>5.644659e+12</td>\n      <td>5.642884e+12</td>\n      <td>5.669563e+12</td>\n    </tr>\n    <tr>\n      <th>South Korea</th>\n      <td>10</td>\n      <td>16004</td>\n      <td>15848</td>\n      <td>176965</td>\n      <td>34607</td>\n      <td>11.06</td>\n      <td>124</td>\n      <td>1.100700e+10</td>\n      <td>221</td>\n      <td>2.279353</td>\n      <td>9.410199e+11</td>\n      <td>9.924316e+11</td>\n      <td>1.020510e+12</td>\n      <td>1.027730e+12</td>\n      <td>1.094499e+12</td>\n      <td>1.134796e+12</td>\n      <td>1.160809e+12</td>\n      <td>1.194429e+12</td>\n      <td>1.234340e+12</td>\n      <td>1.266580e+12</td>\n    </tr>\n    <tr>\n      <th>Russian Federation</th>\n      <td>7</td>\n      <td>23361</td>\n      <td>23196</td>\n      <td>55495</td>\n      <td>22485</td>\n      <td>2.38</td>\n      <td>69</td>\n      <td>3.070900e+10</td>\n      <td>214</td>\n      <td>17.288680</td>\n      <td>1.385793e+12</td>\n      <td>1.504071e+12</td>\n      <td>1.583004e+12</td>\n      <td>1.459199e+12</td>\n      <td>1.524917e+12</td>\n      <td>1.589943e+12</td>\n      <td>1.645876e+12</td>\n      <td>1.666934e+12</td>\n      <td>1.678709e+12</td>\n      <td>1.616149e+12</td>\n    </tr>\n    <tr>\n      <th>United States</th>\n      <td>2</td>\n      <td>126158</td>\n      <td>123332</td>\n      <td>1296212</td>\n      <td>444998</td>\n      <td>10.27</td>\n      <td>278</td>\n      <td>9.083800e+10</td>\n      <td>286</td>\n      <td>11.570980</td>\n      <td>1.479230e+13</td>\n      <td>1.505540e+13</td>\n      <td>1.501149e+13</td>\n      <td>1.459484e+13</td>\n      <td>1.496437e+13</td>\n      <td>1.520402e+13</td>\n      <td>1.554216e+13</td>\n      <td>1.577367e+13</td>\n      <td>1.615662e+13</td>\n      <td>1.654857e+13</td>\n    </tr>\n  </tbody>\n</table>\n</div>"
          },
          "metadata": {}
        }
      ]
    },
    {
      "metadata": {},
      "cell_type": "markdown",
      "source": "### Question 2 (6.6%)\nThe previous question joined three datasets then reduced this to just the top 15 entries. When you joined the datasets, but before you reduced this to the top 15 items, how many entries did you lose?\n\n*This function should return a single number.*"
    },
    {
      "metadata": {
        "trusted": true
      },
      "cell_type": "code",
      "source": "%%HTML\n<svg width=\"800\" height=\"300\">\n  <circle cx=\"150\" cy=\"180\" r=\"80\" fill-opacity=\"0.2\" stroke=\"black\" stroke-width=\"2\" fill=\"blue\" />\n  <circle cx=\"200\" cy=\"100\" r=\"80\" fill-opacity=\"0.2\" stroke=\"black\" stroke-width=\"2\" fill=\"red\" />\n  <circle cx=\"100\" cy=\"100\" r=\"80\" fill-opacity=\"0.2\" stroke=\"black\" stroke-width=\"2\" fill=\"green\" />\n  <line x1=\"150\" y1=\"125\" x2=\"300\" y2=\"150\" stroke=\"black\" stroke-width=\"2\" fill=\"black\" stroke-dasharray=\"5,3\"/>\n  <text  x=\"300\" y=\"165\" font-family=\"Verdana\" font-size=\"35\">Everything but this!</text>\n</svg>",
      "execution_count": 88,
      "outputs": [
        {
          "output_type": "display_data",
          "data": {
            "text/plain": "<IPython.core.display.HTML object>",
            "text/html": "<svg width=\"800\" height=\"300\">\n  <circle cx=\"150\" cy=\"180\" r=\"80\" fill-opacity=\"0.2\" stroke=\"black\" stroke-width=\"2\" fill=\"blue\" />\n  <circle cx=\"200\" cy=\"100\" r=\"80\" fill-opacity=\"0.2\" stroke=\"black\" stroke-width=\"2\" fill=\"red\" />\n  <circle cx=\"100\" cy=\"100\" r=\"80\" fill-opacity=\"0.2\" stroke=\"black\" stroke-width=\"2\" fill=\"green\" />\n  <line x1=\"150\" y1=\"125\" x2=\"300\" y2=\"150\" stroke=\"black\" stroke-width=\"2\" fill=\"black\" stroke-dasharray=\"5,3\"/>\n  <text  x=\"300\" y=\"165\" font-family=\"Verdana\" font-size=\"35\">Everything but this!</text>\n</svg>"
          },
          "metadata": {}
        }
      ]
    },
    {
      "metadata": {
        "umich_part_id": "010",
        "umich_partlist_id": "003",
        "trusted": true
      },
      "cell_type": "code",
      "source": "# outer Join --> alle Datensätze werden genommen\ndef answer_two():\n    result_inner = ScimEn.set_index('Country')[['Rank', 'Documents', 'Citable documents', 'Citations', 'Self-citations', 'Citations per document', 'H index']].join(energy.set_index('Country')[['Energy Supply', 'Energy Supply per Capita', '% Renewable']].join\n                                          (GDP.set_index('Country')[['2006', '2007', '2008', '2009', '2010', '2011', '2012', '2013', '2014', '2015']], how='inner'), how='inner')    \n    result_outer = ScimEn.set_index('Country')[['Rank', 'Documents', 'Citable documents', 'Citations', 'Self-citations', 'Citations per document', 'H index']].join(energy.set_index('Country')[['Energy Supply', 'Energy Supply per Capita', '% Renewable']].join\n                                          (GDP.set_index('Country')[['2006', '2007', '2008', '2009', '2010', '2011', '2012', '2013', '2014', '2015']], how='outer'), how='outer')    \n    \n    return len(result_outer)-len(result_inner)\n\nanswer_two()",
      "execution_count": 89,
      "outputs": [
        {
          "output_type": "execute_result",
          "execution_count": 89,
          "data": {
            "text/plain": "160"
          },
          "metadata": {}
        }
      ]
    },
    {
      "metadata": {},
      "cell_type": "markdown",
      "source": "## Answer the following questions in the context of only the top 15 countries by Scimagojr Rank (aka the DataFrame returned by `answer_one()`)"
    },
    {
      "metadata": {},
      "cell_type": "markdown",
      "source": "### Question 3 (6.6%)\nWhat is the average GDP over the last 10 years for each country? (exclude missing values from this calculation.)\n\n*This function should return a Series named `avgGDP` with 15 countries and their average GDP sorted in descending order.*"
    },
    {
      "metadata": {
        "scrolled": true,
        "umich_part_id": "011",
        "umich_partlist_id": "003",
        "trusted": true
      },
      "cell_type": "code",
      "source": "def Average(lst): \n    return sum(lst) / len(lst) \n\ndef answer_three():\n    Top15 = answer_one()\n    avgGDP = pd.Series([])\n    \n    temp_Top15 = Top15[['2006', '2007', '2008', '2009', '2010', '2011', '2012', '2013', '2014', '2015']]\n    \n    i = 0\n    while (i < len(Top15)):\n        country = temp_Top15.index[i]\n        avg = Average(temp_Top15[temp_Top15.index == country].values[0])\n        avgGDP[country] = avg\n        i = i + 1\n    return avgGDP.sort_values(ascending=False)\n\nanswer_three()",
      "execution_count": 90,
      "outputs": [
        {
          "output_type": "execute_result",
          "execution_count": 90,
          "data": {
            "text/plain": "United States         1.536434e+13\nChina                 6.348609e+12\nJapan                 5.542208e+12\nGermany               3.493025e+12\nFrance                2.681725e+12\nUnited Kingdom        2.487907e+12\nBrazil                2.189794e+12\nItaly                 2.120175e+12\nIndia                 1.769297e+12\nCanada                1.660647e+12\nRussian Federation    1.565459e+12\nSpain                 1.418078e+12\nAustralia             1.164043e+12\nSouth Korea           1.106715e+12\ndtype: float64"
          },
          "metadata": {}
        }
      ]
    },
    {
      "metadata": {},
      "cell_type": "markdown",
      "source": "### Question 4 (6.6%)\nBy how much had the GDP changed over the 10 year span for the country with the 6th largest average GDP?\n\n*This function should return a single number.*"
    },
    {
      "metadata": {
        "scrolled": true,
        "umich_part_id": "012",
        "umich_partlist_id": "003",
        "trusted": true
      },
      "cell_type": "code",
      "source": "# 2015 - 2006 nicht max - min\ndef answer_four():\n    Top15 = answer_one()\n    a = Top15[Top15.index == answer_three().index[5]][['2006', '2007', '2008', '2009', '2010', '2011', '2012', '2013', '2014', '2015']]\n    return a.iloc[0]['2015']-a.iloc[0]['2006']\n\nanswer_four()",
      "execution_count": 91,
      "outputs": [
        {
          "output_type": "execute_result",
          "execution_count": 91,
          "data": {
            "text/plain": "246702696075.3999"
          },
          "metadata": {}
        }
      ]
    },
    {
      "metadata": {},
      "cell_type": "markdown",
      "source": "### Question 5 (6.6%)\nWhat is the mean `Energy Supply per Capita`?\n\n*This function should return a single number.*"
    },
    {
      "metadata": {
        "umich_part_id": "013",
        "umich_partlist_id": "003",
        "trusted": true
      },
      "cell_type": "code",
      "source": "def answer_five():\n    Top15 = answer_one()\n    return Top15['Energy Supply per Capita'].mean()\n\nanswer_five()",
      "execution_count": 92,
      "outputs": [
        {
          "output_type": "execute_result",
          "execution_count": 92,
          "data": {
            "text/plain": "160.35714285714286"
          },
          "metadata": {}
        }
      ]
    },
    {
      "metadata": {},
      "cell_type": "markdown",
      "source": "### Question 6 (6.6%)\nWhat country has the maximum % Renewable and what is the percentage?\n\n*This function should return a tuple with the name of the country and the percentage.*"
    },
    {
      "metadata": {
        "umich_part_id": "014",
        "umich_partlist_id": "003",
        "trusted": true
      },
      "cell_type": "code",
      "source": "def answer_six():\n    Top15 = answer_one()\n    a = Top15['% Renewable']\n    return (a[a.values == max(list(a))].index[0], a[a.values == max(list(a))].values[0])\n\nanswer_six()",
      "execution_count": 93,
      "outputs": [
        {
          "output_type": "execute_result",
          "execution_count": 93,
          "data": {
            "text/plain": "('Brazil', 69.64803)"
          },
          "metadata": {}
        }
      ]
    },
    {
      "metadata": {},
      "cell_type": "markdown",
      "source": "### Question 7 (6.6%)\nCreate a new column that is the ratio of Self-Citations to Total Citations. \nWhat is the maximum value for this new column, and what country has the highest ratio?\n\n*This function should return a tuple with the name of the country and the ratio.*"
    },
    {
      "metadata": {
        "umich_part_id": "015",
        "umich_partlist_id": "003",
        "trusted": true
      },
      "cell_type": "code",
      "source": "def answer_seven():\n    Top15 = answer_one()\n    ratio = Top15['Self-citations']/Top15['Citations']\n    Top15['Ratio-citations'] = ratio\n    a = Top15[Top15['Ratio-citations'] == max(Top15['Ratio-citations'])].iloc[0]\n    return (a.name, a['Ratio-citations'])\n\nanswer_seven()",
      "execution_count": 94,
      "outputs": [
        {
          "output_type": "execute_result",
          "execution_count": 94,
          "data": {
            "text/plain": "('China', 0.6832074854438147)"
          },
          "metadata": {}
        }
      ]
    },
    {
      "metadata": {},
      "cell_type": "markdown",
      "source": "### Question 8 (6.6%)\n\nCreate a column that estimates the population using Energy Supply and Energy Supply per capita. \nWhat is the third most populous country according to this estimate?\n\n*This function should return a single string value.*"
    },
    {
      "metadata": {
        "umich_part_id": "016",
        "umich_partlist_id": "003",
        "trusted": true
      },
      "cell_type": "code",
      "source": "def answer_eight():\n    Top15 = answer_one()\n    population = Top15['Energy Supply']/Top15['Energy Supply per Capita']\n    Top15['Estimate_Population'] = population\n    return Top15.sort_values(by=['Estimate_Population'], ascending=False).iloc[2].name\n\nanswer_eight()",
      "execution_count": 96,
      "outputs": [
        {
          "output_type": "execute_result",
          "execution_count": 96,
          "data": {
            "text/plain": "'United States'"
          },
          "metadata": {}
        }
      ]
    },
    {
      "metadata": {},
      "cell_type": "markdown",
      "source": "### Question 9 (6.6%)\nCreate a column that estimates the number of citable documents per person. \nWhat is the correlation between the number of citable documents per capita and the energy supply per capita? Use the `.corr()` method, (Pearson's correlation).\n\n*This function should return a single number.*\n\n*(Optional: Use the built-in function `plot9()` to visualize the relationship between Energy Supply per Capita vs. Citable docs per Capita)*"
    },
    {
      "metadata": {
        "umich_part_id": "017",
        "umich_partlist_id": "003",
        "trusted": true
      },
      "cell_type": "code",
      "source": "def answer_nine():\n    Top15 = answer_one()\n    Top15['PopEst'] = Top15['Energy Supply'] / Top15['Energy Supply per Capita']\n    Top15['Citable docs per Capita'] = Top15['Citable documents'] / Top15['PopEst']\n    return Top15#['Citable docs per Capita'].corr(Top15['Energy Supply per Capita'])\n\nanswer_nine()",
      "execution_count": 103,
      "outputs": [
        {
          "output_type": "execute_result",
          "execution_count": 103,
          "data": {
            "text/plain": "                    Rank  Documents  Citable documents  Citations  \\\nCountry                                                             \nAustralia             14      12635              12397     157471   \nBrazil                13      12705              12559      99136   \nCanada                 8      22908              22465     332093   \nChina                  1     167992             167369    1057626   \nGermany                6      24407              23963     231800   \nSpain                 15      12478              12270     195663   \nFrance                 9      17569              17230     203486   \nUnited Kingdom         4      28998              28176     335914   \nIndia                  5      24872              24300     215787   \nItaly                 11      15880              15411     184184   \nJapan                  3      37948              37612     316956   \nSouth Korea           10      16004              15848     176965   \nRussian Federation     7      23361              23196      55495   \nUnited States          2     126158             123332    1296212   \n\n                    Self-citations  Citations per document  H index  \\\nCountry                                                               \nAustralia                    27620                   12.46      131   \nBrazil                       24398                    7.80      103   \nCanada                       62436                   14.50      177   \nChina                       722578                    6.30      176   \nGermany                      48820                    9.50      151   \nSpain                        36353                   15.68      138   \nFrance                       43210                   11.58      139   \nUnited Kingdom               64609                   11.58      170   \nIndia                        68150                    8.68      141   \nItaly                        45471                   11.60      127   \nJapan                        85620                    8.35      155   \nSouth Korea                  34607                   11.06      124   \nRussian Federation           22485                    2.38       69   \nUnited States               444998                   10.27      278   \n\n                    Energy Supply Energy Supply per Capita  % Renewable  \\\nCountry                                                                   \nAustralia            5.386000e+09                      231    11.810810   \nBrazil               1.214900e+10                       59    69.648030   \nCanada               1.043100e+10                      296    61.945430   \nChina                1.271910e+11                       93    19.754910   \nGermany              1.326100e+10                      165    17.901530   \nSpain                4.923000e+09                      106    37.968590   \nFrance               1.059700e+10                      166    17.020280   \nUnited Kingdom       7.920000e+09                      124    10.600470   \nIndia                3.319500e+10                       26    14.969080   \nItaly                6.530000e+09                      109    33.667230   \nJapan                1.898400e+10                      149    10.232820   \nSouth Korea          1.100700e+10                      221     2.279353   \nRussian Federation   3.070900e+10                      214    17.288680   \nUnited States        9.083800e+10                      286    11.570980   \n\n                             ...                     2008          2009  \\\nCountry                      ...                                          \nAustralia                    ...             1.099644e+12  1.119654e+12   \nBrazil                       ...             2.056809e+12  2.054215e+12   \nCanada                       ...             1.612713e+12  1.565145e+12   \nChina                        ...             4.997775e+12  5.459247e+12   \nGermany                      ...             3.478809e+12  3.283340e+12   \nSpain                        ...             1.484530e+12  1.431475e+12   \nFrance                       ...             2.674637e+12  2.595967e+12   \nUnited Kingdom               ...             2.470614e+12  2.367048e+12   \nIndia                        ...             1.428361e+12  1.549483e+12   \nItaly                        ...             2.211154e+12  2.089938e+12   \nJapan                        ...             5.558527e+12  5.251308e+12   \nSouth Korea                  ...             1.020510e+12  1.027730e+12   \nRussian Federation           ...             1.583004e+12  1.459199e+12   \nUnited States                ...             1.501149e+13  1.459484e+13   \n\n                            2010          2011          2012          2013  \\\nCountry                                                                      \nAustralia           1.142251e+12  1.169431e+12  1.211913e+12  1.241484e+12   \nBrazil              2.208872e+12  2.295245e+12  2.339209e+12  2.409740e+12   \nCanada              1.613406e+12  1.664087e+12  1.693133e+12  1.730688e+12   \nChina               6.039659e+12  6.612490e+12  7.124978e+12  7.672448e+12   \nGermany             3.417298e+12  3.542371e+12  3.556724e+12  3.567317e+12   \nSpain               1.431673e+12  1.417355e+12  1.380216e+12  1.357139e+12   \nFrance              2.646995e+12  2.702032e+12  2.706968e+12  2.722567e+12   \nUnited Kingdom      2.403504e+12  2.450911e+12  2.479809e+12  2.533370e+12   \nIndia               1.708459e+12  1.821872e+12  1.924235e+12  2.051982e+12   \nItaly               2.125185e+12  2.137439e+12  2.077184e+12  2.040871e+12   \nJapan               5.498718e+12  5.473738e+12  5.569102e+12  5.644659e+12   \nSouth Korea         1.094499e+12  1.134796e+12  1.160809e+12  1.194429e+12   \nRussian Federation  1.524917e+12  1.589943e+12  1.645876e+12  1.666934e+12   \nUnited States       1.496437e+13  1.520402e+13  1.554216e+13  1.577367e+13   \n\n                            2014          2015       PopEst  \\\nCountry                                                       \nAustralia           1.272520e+12  1.301251e+12   2.3316e+07   \nBrazil              2.412231e+12  2.319423e+12  2.05915e+08   \nCanada              1.773486e+12  1.792609e+12  3.52399e+07   \nChina               8.230121e+12  8.797999e+12  1.36765e+09   \nGermany             3.624386e+12  3.685556e+12  8.03697e+07   \nSpain               1.375605e+12  1.419821e+12  4.64434e+07   \nFrance              2.729632e+12  2.761185e+12  6.38373e+07   \nUnited Kingdom      2.605643e+12  2.666333e+12   6.3871e+07   \nIndia               2.200617e+12  2.367206e+12  1.27673e+09   \nItaly               2.033868e+12  2.049316e+12  5.99083e+07   \nJapan               5.642884e+12  5.669563e+12  1.27409e+08   \nSouth Korea         1.234340e+12  1.266580e+12  4.98054e+07   \nRussian Federation  1.678709e+12  1.616149e+12    1.435e+08   \nUnited States       1.615662e+13  1.654857e+13  3.17615e+08   \n\n                    Citable docs per Capita  \nCountry                                      \nAustralia                       0.000531695  \nBrazil                          6.09911e-05  \nCanada                          0.000637488  \nChina                           0.000122378  \nGermany                          0.00029816  \nSpain                           0.000264193  \nFrance                          0.000269905  \nUnited Kingdom                  0.000441139  \nIndia                            1.9033e-05  \nItaly                           0.000257243  \nJapan                           0.000295206  \nSouth Korea                     0.000318198  \nRussian Federation              0.000161645  \nUnited States                   0.000388306  \n\n[14 rows x 22 columns]",
            "text/html": "<div>\n<table border=\"1\" class=\"dataframe\">\n  <thead>\n    <tr style=\"text-align: right;\">\n      <th></th>\n      <th>Rank</th>\n      <th>Documents</th>\n      <th>Citable documents</th>\n      <th>Citations</th>\n      <th>Self-citations</th>\n      <th>Citations per document</th>\n      <th>H index</th>\n      <th>Energy Supply</th>\n      <th>Energy Supply per Capita</th>\n      <th>% Renewable</th>\n      <th>...</th>\n      <th>2008</th>\n      <th>2009</th>\n      <th>2010</th>\n      <th>2011</th>\n      <th>2012</th>\n      <th>2013</th>\n      <th>2014</th>\n      <th>2015</th>\n      <th>PopEst</th>\n      <th>Citable docs per Capita</th>\n    </tr>\n    <tr>\n      <th>Country</th>\n      <th></th>\n      <th></th>\n      <th></th>\n      <th></th>\n      <th></th>\n      <th></th>\n      <th></th>\n      <th></th>\n      <th></th>\n      <th></th>\n      <th></th>\n      <th></th>\n      <th></th>\n      <th></th>\n      <th></th>\n      <th></th>\n      <th></th>\n      <th></th>\n      <th></th>\n      <th></th>\n      <th></th>\n    </tr>\n  </thead>\n  <tbody>\n    <tr>\n      <th>Australia</th>\n      <td>14</td>\n      <td>12635</td>\n      <td>12397</td>\n      <td>157471</td>\n      <td>27620</td>\n      <td>12.46</td>\n      <td>131</td>\n      <td>5.386000e+09</td>\n      <td>231</td>\n      <td>11.810810</td>\n      <td>...</td>\n      <td>1.099644e+12</td>\n      <td>1.119654e+12</td>\n      <td>1.142251e+12</td>\n      <td>1.169431e+12</td>\n      <td>1.211913e+12</td>\n      <td>1.241484e+12</td>\n      <td>1.272520e+12</td>\n      <td>1.301251e+12</td>\n      <td>2.3316e+07</td>\n      <td>0.000531695</td>\n    </tr>\n    <tr>\n      <th>Brazil</th>\n      <td>13</td>\n      <td>12705</td>\n      <td>12559</td>\n      <td>99136</td>\n      <td>24398</td>\n      <td>7.80</td>\n      <td>103</td>\n      <td>1.214900e+10</td>\n      <td>59</td>\n      <td>69.648030</td>\n      <td>...</td>\n      <td>2.056809e+12</td>\n      <td>2.054215e+12</td>\n      <td>2.208872e+12</td>\n      <td>2.295245e+12</td>\n      <td>2.339209e+12</td>\n      <td>2.409740e+12</td>\n      <td>2.412231e+12</td>\n      <td>2.319423e+12</td>\n      <td>2.05915e+08</td>\n      <td>6.09911e-05</td>\n    </tr>\n    <tr>\n      <th>Canada</th>\n      <td>8</td>\n      <td>22908</td>\n      <td>22465</td>\n      <td>332093</td>\n      <td>62436</td>\n      <td>14.50</td>\n      <td>177</td>\n      <td>1.043100e+10</td>\n      <td>296</td>\n      <td>61.945430</td>\n      <td>...</td>\n      <td>1.612713e+12</td>\n      <td>1.565145e+12</td>\n      <td>1.613406e+12</td>\n      <td>1.664087e+12</td>\n      <td>1.693133e+12</td>\n      <td>1.730688e+12</td>\n      <td>1.773486e+12</td>\n      <td>1.792609e+12</td>\n      <td>3.52399e+07</td>\n      <td>0.000637488</td>\n    </tr>\n    <tr>\n      <th>China</th>\n      <td>1</td>\n      <td>167992</td>\n      <td>167369</td>\n      <td>1057626</td>\n      <td>722578</td>\n      <td>6.30</td>\n      <td>176</td>\n      <td>1.271910e+11</td>\n      <td>93</td>\n      <td>19.754910</td>\n      <td>...</td>\n      <td>4.997775e+12</td>\n      <td>5.459247e+12</td>\n      <td>6.039659e+12</td>\n      <td>6.612490e+12</td>\n      <td>7.124978e+12</td>\n      <td>7.672448e+12</td>\n      <td>8.230121e+12</td>\n      <td>8.797999e+12</td>\n      <td>1.36765e+09</td>\n      <td>0.000122378</td>\n    </tr>\n    <tr>\n      <th>Germany</th>\n      <td>6</td>\n      <td>24407</td>\n      <td>23963</td>\n      <td>231800</td>\n      <td>48820</td>\n      <td>9.50</td>\n      <td>151</td>\n      <td>1.326100e+10</td>\n      <td>165</td>\n      <td>17.901530</td>\n      <td>...</td>\n      <td>3.478809e+12</td>\n      <td>3.283340e+12</td>\n      <td>3.417298e+12</td>\n      <td>3.542371e+12</td>\n      <td>3.556724e+12</td>\n      <td>3.567317e+12</td>\n      <td>3.624386e+12</td>\n      <td>3.685556e+12</td>\n      <td>8.03697e+07</td>\n      <td>0.00029816</td>\n    </tr>\n    <tr>\n      <th>Spain</th>\n      <td>15</td>\n      <td>12478</td>\n      <td>12270</td>\n      <td>195663</td>\n      <td>36353</td>\n      <td>15.68</td>\n      <td>138</td>\n      <td>4.923000e+09</td>\n      <td>106</td>\n      <td>37.968590</td>\n      <td>...</td>\n      <td>1.484530e+12</td>\n      <td>1.431475e+12</td>\n      <td>1.431673e+12</td>\n      <td>1.417355e+12</td>\n      <td>1.380216e+12</td>\n      <td>1.357139e+12</td>\n      <td>1.375605e+12</td>\n      <td>1.419821e+12</td>\n      <td>4.64434e+07</td>\n      <td>0.000264193</td>\n    </tr>\n    <tr>\n      <th>France</th>\n      <td>9</td>\n      <td>17569</td>\n      <td>17230</td>\n      <td>203486</td>\n      <td>43210</td>\n      <td>11.58</td>\n      <td>139</td>\n      <td>1.059700e+10</td>\n      <td>166</td>\n      <td>17.020280</td>\n      <td>...</td>\n      <td>2.674637e+12</td>\n      <td>2.595967e+12</td>\n      <td>2.646995e+12</td>\n      <td>2.702032e+12</td>\n      <td>2.706968e+12</td>\n      <td>2.722567e+12</td>\n      <td>2.729632e+12</td>\n      <td>2.761185e+12</td>\n      <td>6.38373e+07</td>\n      <td>0.000269905</td>\n    </tr>\n    <tr>\n      <th>United Kingdom</th>\n      <td>4</td>\n      <td>28998</td>\n      <td>28176</td>\n      <td>335914</td>\n      <td>64609</td>\n      <td>11.58</td>\n      <td>170</td>\n      <td>7.920000e+09</td>\n      <td>124</td>\n      <td>10.600470</td>\n      <td>...</td>\n      <td>2.470614e+12</td>\n      <td>2.367048e+12</td>\n      <td>2.403504e+12</td>\n      <td>2.450911e+12</td>\n      <td>2.479809e+12</td>\n      <td>2.533370e+12</td>\n      <td>2.605643e+12</td>\n      <td>2.666333e+12</td>\n      <td>6.3871e+07</td>\n      <td>0.000441139</td>\n    </tr>\n    <tr>\n      <th>India</th>\n      <td>5</td>\n      <td>24872</td>\n      <td>24300</td>\n      <td>215787</td>\n      <td>68150</td>\n      <td>8.68</td>\n      <td>141</td>\n      <td>3.319500e+10</td>\n      <td>26</td>\n      <td>14.969080</td>\n      <td>...</td>\n      <td>1.428361e+12</td>\n      <td>1.549483e+12</td>\n      <td>1.708459e+12</td>\n      <td>1.821872e+12</td>\n      <td>1.924235e+12</td>\n      <td>2.051982e+12</td>\n      <td>2.200617e+12</td>\n      <td>2.367206e+12</td>\n      <td>1.27673e+09</td>\n      <td>1.9033e-05</td>\n    </tr>\n    <tr>\n      <th>Italy</th>\n      <td>11</td>\n      <td>15880</td>\n      <td>15411</td>\n      <td>184184</td>\n      <td>45471</td>\n      <td>11.60</td>\n      <td>127</td>\n      <td>6.530000e+09</td>\n      <td>109</td>\n      <td>33.667230</td>\n      <td>...</td>\n      <td>2.211154e+12</td>\n      <td>2.089938e+12</td>\n      <td>2.125185e+12</td>\n      <td>2.137439e+12</td>\n      <td>2.077184e+12</td>\n      <td>2.040871e+12</td>\n      <td>2.033868e+12</td>\n      <td>2.049316e+12</td>\n      <td>5.99083e+07</td>\n      <td>0.000257243</td>\n    </tr>\n    <tr>\n      <th>Japan</th>\n      <td>3</td>\n      <td>37948</td>\n      <td>37612</td>\n      <td>316956</td>\n      <td>85620</td>\n      <td>8.35</td>\n      <td>155</td>\n      <td>1.898400e+10</td>\n      <td>149</td>\n      <td>10.232820</td>\n      <td>...</td>\n      <td>5.558527e+12</td>\n      <td>5.251308e+12</td>\n      <td>5.498718e+12</td>\n      <td>5.473738e+12</td>\n      <td>5.569102e+12</td>\n      <td>5.644659e+12</td>\n      <td>5.642884e+12</td>\n      <td>5.669563e+12</td>\n      <td>1.27409e+08</td>\n      <td>0.000295206</td>\n    </tr>\n    <tr>\n      <th>South Korea</th>\n      <td>10</td>\n      <td>16004</td>\n      <td>15848</td>\n      <td>176965</td>\n      <td>34607</td>\n      <td>11.06</td>\n      <td>124</td>\n      <td>1.100700e+10</td>\n      <td>221</td>\n      <td>2.279353</td>\n      <td>...</td>\n      <td>1.020510e+12</td>\n      <td>1.027730e+12</td>\n      <td>1.094499e+12</td>\n      <td>1.134796e+12</td>\n      <td>1.160809e+12</td>\n      <td>1.194429e+12</td>\n      <td>1.234340e+12</td>\n      <td>1.266580e+12</td>\n      <td>4.98054e+07</td>\n      <td>0.000318198</td>\n    </tr>\n    <tr>\n      <th>Russian Federation</th>\n      <td>7</td>\n      <td>23361</td>\n      <td>23196</td>\n      <td>55495</td>\n      <td>22485</td>\n      <td>2.38</td>\n      <td>69</td>\n      <td>3.070900e+10</td>\n      <td>214</td>\n      <td>17.288680</td>\n      <td>...</td>\n      <td>1.583004e+12</td>\n      <td>1.459199e+12</td>\n      <td>1.524917e+12</td>\n      <td>1.589943e+12</td>\n      <td>1.645876e+12</td>\n      <td>1.666934e+12</td>\n      <td>1.678709e+12</td>\n      <td>1.616149e+12</td>\n      <td>1.435e+08</td>\n      <td>0.000161645</td>\n    </tr>\n    <tr>\n      <th>United States</th>\n      <td>2</td>\n      <td>126158</td>\n      <td>123332</td>\n      <td>1296212</td>\n      <td>444998</td>\n      <td>10.27</td>\n      <td>278</td>\n      <td>9.083800e+10</td>\n      <td>286</td>\n      <td>11.570980</td>\n      <td>...</td>\n      <td>1.501149e+13</td>\n      <td>1.459484e+13</td>\n      <td>1.496437e+13</td>\n      <td>1.520402e+13</td>\n      <td>1.554216e+13</td>\n      <td>1.577367e+13</td>\n      <td>1.615662e+13</td>\n      <td>1.654857e+13</td>\n      <td>3.17615e+08</td>\n      <td>0.000388306</td>\n    </tr>\n  </tbody>\n</table>\n<p>14 rows × 22 columns</p>\n</div>"
          },
          "metadata": {}
        }
      ]
    },
    {
      "metadata": {
        "trusted": true
      },
      "cell_type": "code",
      "source": "def plot9():\n    import matplotlib as plt\n    %matplotlib inline\n    \n    Top15 = answer_one()\n    Top15['PopEst'] = Top15['Energy Supply'] / Top15['Energy Supply per Capita']\n    Top15['Citable docs per Capita'] = Top15['Citable documents'] / Top15['PopEst']\n    Top15.plot(x='Citable docs per Capita', y='Energy Supply per Capita', kind='scatter', xlim=[0, 0.0006])",
      "execution_count": 100,
      "outputs": []
    },
    {
      "metadata": {
        "trusted": true
      },
      "cell_type": "code",
      "source": "#plot9() # Be sure to comment out plot9() before submitting the assignment!",
      "execution_count": 41,
      "outputs": [
        {
          "output_type": "stream",
          "text": "/home/nbuser/anaconda3_420/lib/python3.5/site-packages/matplotlib/font_manager.py:281: UserWarning: Matplotlib is building the font cache using fc-list. This may take a moment.\n  'Matplotlib is building the font cache using fc-list. '\n",
          "name": "stderr"
        },
        {
          "output_type": "display_data",
          "data": {
            "image/png": "[encoded data removed]",
            "text/plain": "<matplotlib.figure.Figure at 0x7f09e8d0fc50>"
          },
          "metadata": {}
        }
      ]
    },
    {
      "metadata": {},
      "cell_type": "markdown",
      "source": "### Question 10 (6.6%)\nCreate a new column with a 1 if the country's % Renewable value is at or above the median for all countries in the top 15, and a 0 if the country's % Renewable value is below the median.\n\n*This function should return a series named `HighRenew` whose index is the country name sorted in ascending order of rank.*"
    },
    {
      "metadata": {
        "collapsed": true,
        "umich_part_id": "018",
        "umich_partlist_id": "003",
        "trusted": false
      },
      "cell_type": "code",
      "source": "def answer_ten():\n    Top15 = answer_one()\n    return \"ANSWER\"",
      "execution_count": null,
      "outputs": []
    },
    {
      "metadata": {},
      "cell_type": "markdown",
      "source": "### Question 11 (6.6%)\nUse the following dictionary to group the Countries by Continent, then create a dateframe that displays the sample size (the number of countries in each continent bin), and the sum, mean, and std deviation for the estimated population of each country.\n\n```python\nContinentDict  = {'China':'Asia', \n                  'United States':'North America', \n                  'Japan':'Asia', \n                  'United Kingdom':'Europe', \n                  'Russian Federation':'Europe', \n                  'Canada':'North America', \n                  'Germany':'Europe', \n                  'India':'Asia',\n                  'France':'Europe', \n                  'South Korea':'Asia', \n                  'Italy':'Europe', \n                  'Spain':'Europe', \n                  'Iran':'Asia',\n                  'Australia':'Australia', \n                  'Brazil':'South America'}\n```\n\n*This function should return a DataFrame with index named Continent `['Asia', 'Australia', 'Europe', 'North America', 'South America']` and columns `['size', 'sum', 'mean', 'std']`*"
    },
    {
      "metadata": {
        "umich_part_id": "019",
        "umich_partlist_id": "003",
        "trusted": true
      },
      "cell_type": "code",
      "source": "def answer_eleven():\n    Top15 = answer_one()\n    ContinentDict  = {'China':'Asia', \n                  'United States':'North America', \n                  'Japan':'Asia', \n                  'United Kingdom':'Europe', \n                  'Russian Federation':'Europe', \n                  'Canada':'North America', \n                  'Germany':'Europe', \n                  'India':'Asia',\n                  'France':'Europe', \n                  'South Korea':'Asia', \n                  'Italy':'Europe', \n                  'Spain':'Europe', \n                  'Iran':'Asia',\n                  'Australia':'Australia', \n                  'Brazil':'South America'}\n    for item in Top15.groupby(ContinentDict):\n        print(item)\n    return 1\n\nanswer_eleven()",
      "execution_count": 85,
      "outputs": [
        {
          "output_type": "stream",
          "text": "('Asia',              Rank  Documents  Citable documents  Citations  Self-citations  \\\nCountry                                                                      \nChina           1     167992             167369    1057626          722578   \nIndia           5      24872              24300     215787           68150   \nJapan           3      37948              37612     316956           85620   \nSouth Korea    10      16004              15848     176965           34607   \n\n             Citations per document  H index  Energy Supply  \\\nCountry                                                       \nChina                          6.30      176   1.271910e+11   \nIndia                          8.68      141   3.319500e+10   \nJapan                          8.35      155   1.898400e+10   \nSouth Korea                   11.06      124   1.100700e+10   \n\n            Energy Supply per Capita  % Renewable          2006          2007  \\\nCountry                                                                         \nChina                             93    19.754910  3.992331e+12  4.559041e+12   \nIndia                             26    14.969080  1.265894e+12  1.374865e+12   \nJapan                            149    10.232820  5.496542e+12  5.617036e+12   \nSouth Korea                      221     2.279353  9.410199e+11  9.924316e+11   \n\n                     2008          2009          2010          2011  \\\nCountry                                                               \nChina        4.997775e+12  5.459247e+12  6.039659e+12  6.612490e+12   \nIndia        1.428361e+12  1.549483e+12  1.708459e+12  1.821872e+12   \nJapan        5.558527e+12  5.251308e+12  5.498718e+12  5.473738e+12   \nSouth Korea  1.020510e+12  1.027730e+12  1.094499e+12  1.134796e+12   \n\n                     2012          2013          2014          2015  \nCountry                                                              \nChina        7.124978e+12  7.672448e+12  8.230121e+12  8.797999e+12  \nIndia        1.924235e+12  2.051982e+12  2.200617e+12  2.367206e+12  \nJapan        5.569102e+12  5.644659e+12  5.642884e+12  5.669563e+12  \nSouth Korea  1.160809e+12  1.194429e+12  1.234340e+12  1.266580e+12  )\n('Australia',            Rank  Documents  Citable documents  Citations  Self-citations  \\\nCountry                                                                    \nAustralia    14      12635              12397     157471           27620   \n\n           Citations per document  H index  Energy Supply  \\\nCountry                                                     \nAustralia                   12.46      131   5.386000e+09   \n\n          Energy Supply per Capita  % Renewable          2006          2007  \\\nCountry                                                                       \nAustralia                      231     11.81081  1.021939e+12  1.060340e+12   \n\n                   2008          2009          2010          2011  \\\nCountry                                                             \nAustralia  1.099644e+12  1.119654e+12  1.142251e+12  1.169431e+12   \n\n                   2012          2013          2014          2015  \nCountry                                                            \nAustralia  1.211913e+12  1.241484e+12  1.272520e+12  1.301251e+12  )\n('Europe',                     Rank  Documents  Citable documents  Citations  \\\nCountry                                                             \nGermany                6      24407              23963     231800   \nSpain                 15      12478              12270     195663   \nFrance                 9      17569              17230     203486   \nUnited Kingdom         4      28998              28176     335914   \nItaly                 11      15880              15411     184184   \nRussian Federation     7      23361              23196      55495   \n\n                    Self-citations  Citations per document  H index  \\\nCountry                                                               \nGermany                      48820                    9.50      151   \nSpain                        36353                   15.68      138   \nFrance                       43210                   11.58      139   \nUnited Kingdom               64609                   11.58      170   \nItaly                        45471                   11.60      127   \nRussian Federation           22485                    2.38       69   \n\n                    Energy Supply Energy Supply per Capita  % Renewable  \\\nCountry                                                                   \nGermany              1.326100e+10                      165     17.90153   \nSpain                4.923000e+09                      106     37.96859   \nFrance               1.059700e+10                      166     17.02028   \nUnited Kingdom       7.920000e+09                      124     10.60047   \nItaly                6.530000e+09                      109     33.66723   \nRussian Federation   3.070900e+10                      214     17.28868   \n\n                            2006          2007          2008          2009  \\\nCountry                                                                      \nGermany             3.332891e+12  3.441561e+12  3.478809e+12  3.283340e+12   \nSpain               1.414823e+12  1.468146e+12  1.484530e+12  1.431475e+12   \nFrance              2.607840e+12  2.669424e+12  2.674637e+12  2.595967e+12   \nUnited Kingdom      2.419631e+12  2.482203e+12  2.470614e+12  2.367048e+12   \nItaly               2.202170e+12  2.234627e+12  2.211154e+12  2.089938e+12   \nRussian Federation  1.385793e+12  1.504071e+12  1.583004e+12  1.459199e+12   \n\n                            2010          2011          2012          2013  \\\nCountry                                                                      \nGermany             3.417298e+12  3.542371e+12  3.556724e+12  3.567317e+12   \nSpain               1.431673e+12  1.417355e+12  1.380216e+12  1.357139e+12   \nFrance              2.646995e+12  2.702032e+12  2.706968e+12  2.722567e+12   \nUnited Kingdom      2.403504e+12  2.450911e+12  2.479809e+12  2.533370e+12   \nItaly               2.125185e+12  2.137439e+12  2.077184e+12  2.040871e+12   \nRussian Federation  1.524917e+12  1.589943e+12  1.645876e+12  1.666934e+12   \n\n                            2014          2015  \nCountry                                         \nGermany             3.624386e+12  3.685556e+12  \nSpain               1.375605e+12  1.419821e+12  \nFrance              2.729632e+12  2.761185e+12  \nUnited Kingdom      2.605643e+12  2.666333e+12  \nItaly               2.033868e+12  2.049316e+12  \nRussian Federation  1.678709e+12  1.616149e+12  )\n('North America',                Rank  Documents  Citable documents  Citations  Self-citations  \\\nCountry                                                                        \nCanada            8      22908              22465     332093           62436   \nUnited States     2     126158             123332    1296212          444998   \n\n               Citations per document  H index  Energy Supply  \\\nCountry                                                         \nCanada                          14.50      177   1.043100e+10   \nUnited States                   10.27      278   9.083800e+10   \n\n              Energy Supply per Capita  % Renewable          2006  \\\nCountry                                                             \nCanada                             296     61.94543  1.564469e+12   \nUnited States                      286     11.57098  1.479230e+13   \n\n                       2007          2008          2009          2010  \\\nCountry                                                                 \nCanada         1.596740e+12  1.612713e+12  1.565145e+12  1.613406e+12   \nUnited States  1.505540e+13  1.501149e+13  1.459484e+13  1.496437e+13   \n\n                       2011          2012          2013          2014  \\\nCountry                                                                 \nCanada         1.664087e+12  1.693133e+12  1.730688e+12  1.773486e+12   \nUnited States  1.520402e+13  1.554216e+13  1.577367e+13  1.615662e+13   \n\n                       2015  \nCountry                      \nCanada         1.792609e+12  \nUnited States  1.654857e+13  )\n('South America',          Rank  Documents  Citable documents  Citations  Self-citations  \\\nCountry                                                                  \nBrazil     13      12705              12559      99136           24398   \n\n         Citations per document  H index  Energy Supply  \\\nCountry                                                   \nBrazil                      7.8      103   1.214900e+10   \n\n        Energy Supply per Capita  % Renewable          2006          2007  \\\nCountry                                                                     \nBrazil                        59     69.64803  1.845080e+12  1.957118e+12   \n\n                 2008          2009          2010          2011          2012  \\\nCountry                                                                         \nBrazil   2.056809e+12  2.054215e+12  2.208872e+12  2.295245e+12  2.339209e+12   \n\n                 2013          2014          2015  \nCountry                                            \nBrazil   2.409740e+12  2.412231e+12  2.319423e+12  )\n",
          "name": "stdout"
        },
        {
          "output_type": "execute_result",
          "execution_count": 85,
          "data": {
            "text/plain": "1"
          },
          "metadata": {}
        }
      ]
    },
    {
      "metadata": {},
      "cell_type": "markdown",
      "source": "### Question 12 (6.6%)\nCut % Renewable into 5 bins. Group Top15 by the Continent, as well as these new % Renewable bins. How many countries are in each of these groups?\n\n*This function should return a __Series__ with a MultiIndex of `Continent`, then the bins for `% Renewable`. Do not include groups with no countries.*"
    },
    {
      "metadata": {
        "collapsed": true,
        "scrolled": true,
        "trusted": false
      },
      "cell_type": "code",
      "source": "def answer_twelve():\n    Top15 = answer_one()\n    return \"ANSWER\"",
      "execution_count": null,
      "outputs": []
    },
    {
      "metadata": {},
      "cell_type": "markdown",
      "source": "### Question 13 (6.6%)\nConvert the Population Estimate series to a string with thousands separator (using commas). Do not round the results.\n\ne.g. 317615384.61538464 -> 317,615,384.61538464\n\n*This function should return a Series `PopEst` whose index is the country name and whose values are the population estimate string.*"
    },
    {
      "metadata": {
        "collapsed": true,
        "scrolled": true,
        "umich_part_id": "020",
        "umich_partlist_id": "003",
        "trusted": false
      },
      "cell_type": "code",
      "source": "def answer_thirteen():\n    Top15 = answer_one()\n    return \"ANSWER\"",
      "execution_count": null,
      "outputs": []
    },
    {
      "metadata": {},
      "cell_type": "markdown",
      "source": "### Optional\n\nUse the built in function `plot_optional()` to see an example visualization."
    },
    {
      "metadata": {
        "collapsed": true,
        "scrolled": true,
        "trusted": false
      },
      "cell_type": "code",
      "source": "def plot_optional():\n    import matplotlib as plt\n    %matplotlib inline\n    Top15 = answer_one()\n    ax = Top15.plot(x='Rank', y='% Renewable', kind='scatter', \n                    c=['#e41a1c','#377eb8','#e41a1c','#4daf4a','#4daf4a','#377eb8','#4daf4a','#e41a1c',\n                       '#4daf4a','#e41a1c','#4daf4a','#4daf4a','#e41a1c','#dede00','#ff7f00'], \n                    xticks=range(1,16), s=6*Top15['2014']/10**10, alpha=.75, figsize=[16,6]);\n\n    for i, txt in enumerate(Top15.index):\n        ax.annotate(txt, [Top15['Rank'][i], Top15['% Renewable'][i]], ha='center')\n\n    print(\"This is an example of a visualization that can be created to help understand the data. \\\nThis is a bubble chart showing % Renewable vs. Rank. The size of the bubble corresponds to the countries' \\\n2014 GDP, and the color corresponds to the continent.\")",
      "execution_count": null,
      "outputs": []
    },
    {
      "metadata": {
        "collapsed": true,
        "trusted": false
      },
      "cell_type": "code",
      "source": "#plot_optional() # Be sure to comment out plot_optional() before submitting the assignment!",
      "execution_count": null,
      "outputs": []
    }
  ],
  "metadata": {
    "anaconda-cloud": {},
    "coursera": {
      "course_slug": "python-data-analysis",
      "graded_item_id": "zAr06",
      "launcher_item_id": "KSSjT",
      "part_id": "SL3fU"
    },
    "kernelspec": {
      "name": "python3",
      "display_name": "Python 3",
      "language": "python"
    },
    "umich": {
      "id": "Assignment 3",
      "version": "1.5"
    },
    "language_info": {
      "mimetype": "text/x-python",
      "nbconvert_exporter": "python",
      "name": "python",
      "file_extension": ".py",
      "version": "3.5.4",
      "pygments_lexer": "ipython3",
      "codemirror_mode": {
        "version": 3,
        "name": "ipython"
      }
    }
  },
  "nbformat": 4,
  "nbformat_minor": 1
}