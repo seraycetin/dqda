{
  "cells": [
    {
      "metadata": {},
      "cell_type": "markdown",
      "source": "# Assignment 3\n## Energy\nYou are encouraged to check out the [pandas documentation](http://pandas.pydata.org/pandas-docs/stable/) to find functions or methods you might not have used yet, or ask questions on [Stack Overflow](http://stackoverflow.com/) and tag them as pandas and python related. And of course, the discussion forums are open for interaction with your peers and the course staff."
    },
    {
      "metadata": {},
      "cell_type": "markdown",
      "source": "### Question 1 (20%)\nLoad the energy data from the file `Energy Indicators.xls`, which is a list of indicators of [energy supply and renewable electricity production](Energy%20Indicators.xls) from the [United Nations](http://unstats.un.org/unsd/environment/excel_file_tables/2013/Energy%20Indicators.xls) for the year 2013, and should be put into a DataFrame with the variable name of **energy**.\n\nKeep in mind that this is an Excel file, and not a comma separated values file. Also, make sure to exclude the footer and header information from the datafile. The first two columns are unneccessary, so you should get rid of them, and you should change the column labels so that the columns are:\n\n`['Country', 'Energy Supply', 'Energy Supply per Capita', '% Renewable']`\n\nConvert `Energy Supply` to gigajoules (there are 1,000,000 gigajoules in a petajoule). For all countries which have missing data (e.g. data with \"...\") make sure this is reflected as `np.NaN` values.\n\nRename the following list of countries (for use in later questions):\n\n```\"Republic of Korea\": \"South Korea\",\n\"United States of America\": \"United States\",\n\"United Kingdom of Great Britain and Northern Ireland\": \"United Kingdom\",\n\"China, Hong Kong Special Administrative Region\": \"Hong Kong\"```\n\nThere are also several countries with numbers and/or parenthesis in their name. Be sure to remove these, \n\ne.g. \n\n`'Bolivia (Plurinational State of)'` should be `'Bolivia'`, \n\n`'Switzerland17'` should be `'Switzerland'`.\n\n<br>\n\nNext, load the GDP data from the file `world_bank.csv`, which is a csv containing countries' GDP from 1960 to 2015 from [World Bank](http://data.worldbank.org/indicator/NY.GDP.MKTP.CD). Call this DataFrame **GDP**. \n\nMake sure to skip the header, and rename the following list of countries:\n\n```\"Korea, Rep.\": \"South Korea\", \n\"Iran, Islamic Rep.\": \"Iran\",\n\"Hong Kong SAR, China\": \"Hong Kong\"```\n\n<br>\n\nFinally, load the [Sciamgo Journal and Country Rank data for Energy Engineering and Power Technology](http://www.scimagojr.com/countryrank.php?category=2102) from the file `scimagojr-3.xlsx`, which ranks countries based on their journal contributions in the aforementioned area. Call this DataFrame **ScimEn**.\n\nJoin the three datasets: GDP, Energy, and ScimEn into a new dataset (using the intersection of country names). Use only the last 10 years (2006-2015) of GDP data and only the top 15 countries by Scimagojr 'Rank' (Rank 1 through 15). \n\nThe index of this DataFrame should be the name of the country, and the columns should be ['Rank', 'Documents', 'Citable documents', 'Citations', 'Self-citations',\n       'Citations per document', 'H index', 'Energy Supply',\n       'Energy Supply per Capita', '% Renewable', '2006', '2007', '2008',\n       '2009', '2010', '2011', '2012', '2013', '2014', '2015'].\n\n*This function should return a DataFrame with 20 columns and 15 entries.*"
    },
    {
      "metadata": {
        "trusted": true
      },
      "cell_type": "code",
      "source": "import pandas as pd\nimport numpy as np\nimport re\n\n# Excel einlesen\ndf = pd.read_excel(\"Energy Indicators.xls\")\n\n# Lösche Spalten\ndel df['Unnamed: 0']\ndel df['Unnamed: 1']\n\n# Spalten umbennen\ncolumns = ['Country', 'Energy Supply', 'Energy Supply per Capita', '% Renewable']\ndf.columns = columns\ndf_temp = df.loc[16:242]\n\n# Convert Energy Supply to gigajoules\nenergy_suply = []\ni = 16\nwhile (i < 243):\n    if(df_temp['Energy Supply'][i] == '...'):\n        energy_suply.append(np.NaN)\n    else:\n        energy_suply.append(df_temp['Energy Supply'][i] * 1000000)\n    i = i + 1\n\n# Rename countries\ndf_temp = df_temp.replace({\n    'Republic of Korea': 'South Korea', \n    'United States of America20': 'United States', \n    'United Kingdom of Great Britain and Northern Ireland19': 'United Kingdom',\n    'China, Hong Kong Special Administrative Region3': 'Hong Kong'})\n\n# Remove numbers and/or parenthesis from countries\ncountries = list(df_temp.Country)\ni = 0\nwhile (i < len(countries)):\n    countries[i] = re.sub(r'\\([^)]*\\)', '', countries[i])\n    countries[i] = re.sub(r'[0-9]', '', countries[i])\n    i = i + 1\n\nenergy = pd.DataFrame()\nenergy['Country'] = countries\nenergy['Energy Supply'] = energy_suply\nenergy['Energy Supply per Capita'] = list(df_temp['Energy Supply per Capita'])\nenergy['% Renewable'] = list(df_temp['% Renewable'])\n\n# CSV einlesen\nGDP = pd.read_csv(\"world_bank.csv\", skiprows=4)\nGDP.rename(columns={'Country Name': 'Country'}, inplace=True)\n\n# Rename countries\nGDP = GDP.replace({\n    'Korea, Rep.': 'South Korea', \n    'Iran, Islamic Rep.': 'Iran',\n    'Hong Kong SAR, China': 'Hong Kong'})\n\n# Excel einlesen\nScimEn = pd.read_excel(\"scimagojr.xlsx\")",
      "execution_count": null,
      "outputs": []
    },
    {
      "metadata": {
        "umich_part_id": "009",
        "umich_partlist_id": "003",
        "trusted": true
      },
      "cell_type": "code",
      "source": "def answer_one():   \n    # Join --> inner join verwenden\n    result = ScimEn.set_index('Country')[['Rank', 'Documents', 'Citable documents', 'Citations', 'Self-citations', 'Citations per document', 'H index']].join(energy.set_index('Country')[['Energy Supply', 'Energy Supply per Capita', '% Renewable']].join\n                                          (GDP.set_index('Country')[['2006', '2007', '2008', '2009', '2010', '2011', '2012', '2013', '2014', '2015']], how='inner'), how='inner')    \n    return result[result.Rank < 16]\n\nanswer_one()",
      "execution_count": null,
      "outputs": []
    },
    {
      "metadata": {},
      "cell_type": "markdown",
      "source": "### Question 2 (6.6%)\nThe previous question joined three datasets then reduced this to just the top 15 entries. When you joined the datasets, but before you reduced this to the top 15 items, how many entries did you lose?\n\n*This function should return a single number.*"
    },
    {
      "metadata": {
        "trusted": true
      },
      "cell_type": "code",
      "source": "%%HTML\n<svg width=\"800\" height=\"300\">\n  <circle cx=\"150\" cy=\"180\" r=\"80\" fill-opacity=\"0.2\" stroke=\"black\" stroke-width=\"2\" fill=\"blue\" />\n  <circle cx=\"200\" cy=\"100\" r=\"80\" fill-opacity=\"0.2\" stroke=\"black\" stroke-width=\"2\" fill=\"red\" />\n  <circle cx=\"100\" cy=\"100\" r=\"80\" fill-opacity=\"0.2\" stroke=\"black\" stroke-width=\"2\" fill=\"green\" />\n  <line x1=\"150\" y1=\"125\" x2=\"300\" y2=\"150\" stroke=\"black\" stroke-width=\"2\" fill=\"black\" stroke-dasharray=\"5,3\"/>\n  <text  x=\"300\" y=\"165\" font-family=\"Verdana\" font-size=\"35\">Everything but this!</text>\n</svg>",
      "execution_count": null,
      "outputs": []
    },
    {
      "metadata": {
        "umich_part_id": "010",
        "umich_partlist_id": "003",
        "trusted": true
      },
      "cell_type": "code",
      "source": "# outer Join --> alle Datensätze werden genommen\ndef answer_two():\n    result_inner = ScimEn.set_index('Country')[['Rank', 'Documents', 'Citable documents', 'Citations', 'Self-citations', 'Citations per document', 'H index']].join(energy.set_index('Country')[['Energy Supply', 'Energy Supply per Capita', '% Renewable']].join\n                                          (GDP.set_index('Country')[['2006', '2007', '2008', '2009', '2010', '2011', '2012', '2013', '2014', '2015']], how='inner'), how='inner')    \n    result_outer = ScimEn.set_index('Country')[['Rank', 'Documents', 'Citable documents', 'Citations', 'Self-citations', 'Citations per document', 'H index']].join(energy.set_index('Country')[['Energy Supply', 'Energy Supply per Capita', '% Renewable']].join\n                                          (GDP.set_index('Country')[['2006', '2007', '2008', '2009', '2010', '2011', '2012', '2013', '2014', '2015']], how='outer'), how='outer')    \n    \n    return len(result_outer)-len(result_inner)\n\nanswer_two()",
      "execution_count": null,
      "outputs": []
    },
    {
      "metadata": {},
      "cell_type": "markdown",
      "source": "## Answer the following questions in the context of only the top 15 countries by Scimagojr Rank (aka the DataFrame returned by `answer_one()`)"
    },
    {
      "metadata": {},
      "cell_type": "markdown",
      "source": "### Question 3 (6.6%)\nWhat is the average GDP over the last 10 years for each country? (exclude missing values from this calculation.)\n\n*This function should return a Series named `avgGDP` with 15 countries and their average GDP sorted in descending order.*"
    },
    {
      "metadata": {
        "scrolled": true,
        "umich_part_id": "011",
        "umich_partlist_id": "003",
        "trusted": true
      },
      "cell_type": "code",
      "source": "def Average(lst): \n    return sum(lst) / len(lst) \n\ndef answer_three():\n    Top15 = answer_one()\n    avgGDP = pd.Series([])\n    \n    temp_Top15 = Top15[['2006', '2007', '2008', '2009', '2010', '2011', '2012', '2013', '2014', '2015']]\n    \n    i = 0\n    while (i < len(Top15)):\n        country = temp_Top15.index[i]\n        avg = Average(temp_Top15[temp_Top15.index == country].values[0])\n        avgGDP[country] = avg\n        i = i + 1\n    return avgGDP.sort_values(ascending=False)\n\nanswer_three()",
      "execution_count": null,
      "outputs": []
    },
    {
      "metadata": {},
      "cell_type": "markdown",
      "source": "### Question 4 (6.6%)\nBy how much had the GDP changed over the 10 year span for the country with the 6th largest average GDP?\n\n*This function should return a single number.*"
    },
    {
      "metadata": {
        "scrolled": true,
        "umich_part_id": "012",
        "umich_partlist_id": "003",
        "trusted": true
      },
      "cell_type": "code",
      "source": "# 2015 - 2006 nicht max - min\ndef answer_four():\n    Top15 = answer_one()\n    a = Top15[Top15.index == answer_three().index[5]][['2006', '2007', '2008', '2009', '2010', '2011', '2012', '2013', '2014', '2015']]\n    return a.iloc[0]['2015']-a.iloc[0]['2006']\n\nanswer_four()",
      "execution_count": null,
      "outputs": []
    },
    {
      "metadata": {},
      "cell_type": "markdown",
      "source": "### Question 5 (6.6%)\nWhat is the mean `Energy Supply per Capita`?\n\n*This function should return a single number.*"
    },
    {
      "metadata": {
        "umich_part_id": "013",
        "umich_partlist_id": "003",
        "trusted": true
      },
      "cell_type": "code",
      "source": "def answer_five():\n    Top15 = answer_one()\n    return Top15['Energy Supply per Capita'].mean()\n\nanswer_five()",
      "execution_count": null,
      "outputs": []
    },
    {
      "metadata": {},
      "cell_type": "markdown",
      "source": "### Question 6 (6.6%)\nWhat country has the maximum % Renewable and what is the percentage?\n\n*This function should return a tuple with the name of the country and the percentage.*"
    },
    {
      "metadata": {
        "umich_part_id": "014",
        "umich_partlist_id": "003",
        "trusted": true
      },
      "cell_type": "code",
      "source": "def answer_six():\n    Top15 = answer_one()\n    a = Top15['% Renewable']\n    return (a[a.values == max(list(a))].index[0], a[a.values == max(list(a))].values[0])\n\nanswer_six()",
      "execution_count": null,
      "outputs": []
    },
    {
      "metadata": {},
      "cell_type": "markdown",
      "source": "### Question 7 (6.6%)\nCreate a new column that is the ratio of Self-Citations to Total Citations. \nWhat is the maximum value for this new column, and what country has the highest ratio?\n\n*This function should return a tuple with the name of the country and the ratio.*"
    },
    {
      "metadata": {
        "umich_part_id": "015",
        "umich_partlist_id": "003",
        "trusted": true
      },
      "cell_type": "code",
      "source": "def answer_seven():\n    Top15 = answer_one()\n    ratio = Top15['Self-citations']/Top15['Citations']\n    Top15['Ratio-citations'] = ratio\n    a = Top15[Top15['Ratio-citations'] == max(Top15['Ratio-citations'])].iloc[0]\n    return (a.name, a['Ratio-citations'])\n\nanswer_seven()",
      "execution_count": null,
      "outputs": []
    },
    {
      "metadata": {},
      "cell_type": "markdown",
      "source": "### Question 8 (6.6%)\n\nCreate a column that estimates the population using Energy Supply and Energy Supply per capita. \nWhat is the third most populous country according to this estimate?\n\n*This function should return a single string value.*"
    },
    {
      "metadata": {
        "umich_part_id": "016",
        "umich_partlist_id": "003",
        "trusted": true
      },
      "cell_type": "code",
      "source": "def answer_eight():\n    Top15 = answer_one()\n    population = Top15['Energy Supply']/Top15['Energy Supply per Capita']\n    Top15['Estimate_Population'] = population\n    return Top15.sort_values(by=['Estimate_Population'], ascending=False).iloc[2].name\n\nanswer_eight()",
      "execution_count": null,
      "outputs": []
    },
    {
      "metadata": {},
      "cell_type": "markdown",
      "source": "### Question 9 (6.6%)\nCreate a column that estimates the number of citable documents per person. \nWhat is the correlation between the number of citable documents per capita and the energy supply per capita? Use the `.corr()` method, (Pearson's correlation).\n\n*This function should return a single number.*\n\n*(Optional: Use the built-in function `plot9()` to visualize the relationship between Energy Supply per Capita vs. Citable docs per Capita)*"
    },
    {
      "metadata": {
        "umich_part_id": "017",
        "umich_partlist_id": "003",
        "trusted": true
      },
      "cell_type": "code",
      "source": "def answer_nine():\n    Top15 = answer_one()\n    Top15['PopEst'] = Top15['Energy Supply'] / Top15['Energy Supply per Capita']\n    Top15['Citable docs per Capita'] = Top15['Citable documents'] / Top15['PopEst']\n    a = Top15[['Citable docs per Capita', 'Energy Supply per Capita']]\n    return a['Citable docs per Capita'].astype('float64').corr(a['Energy Supply per Capita'].astype('float64'))\n\nanswer_nine()",
      "execution_count": null,
      "outputs": []
    },
    {
      "metadata": {
        "trusted": true
      },
      "cell_type": "code",
      "source": "def plot9():\n    import matplotlib as plt\n    %matplotlib inline\n    \n    Top15 = answer_one()\n    Top15['PopEst'] = Top15['Energy Supply'] / Top15['Energy Supply per Capita']\n    Top15['Citable docs per Capita'] = Top15['Citable documents'] / Top15['PopEst']\n    Top15.plot(x='Citable docs per Capita', y='Energy Supply per Capita', kind='scatter', xlim=[0, 0.0006])",
      "execution_count": null,
      "outputs": []
    },
    {
      "metadata": {
        "trusted": true
      },
      "cell_type": "code",
      "source": "#plot9() # Be sure to comment out plot9() before submitting the assignment!",
      "execution_count": null,
      "outputs": []
    },
    {
      "metadata": {},
      "cell_type": "markdown",
      "source": "### Question 10 (6.6%)\nCreate a new column with a 1 if the country's % Renewable value is at or above the median for all countries in the top 15, and a 0 if the country's % Renewable value is below the median.\n\n*This function should return a series named `HighRenew` whose index is the country name sorted in ascending order of rank.*"
    },
    {
      "metadata": {
        "umich_part_id": "018",
        "umich_partlist_id": "003",
        "trusted": true
      },
      "cell_type": "code",
      "source": "def answer_ten():\n    Top15 = answer_one()\n    HighRenew = []\n    for item in Top15['% Renewable']:\n        if (item >= Top15['% Renewable'].median()):\n            HighRenew.append(1)\n        else:\n            HighRenew.append(0)\n        \n    Top15['HighRenew'] = HighRenew\n    Top15.sort_values(by=['Rank'], inplace=True)\n    return Top15['HighRenew']\n\nanswer_ten()",
      "execution_count": null,
      "outputs": []
    },
    {
      "metadata": {},
      "cell_type": "markdown",
      "source": "### Question 11 (6.6%)\nUse the following dictionary to group the Countries by Continent, then create a dateframe that displays the sample size (the number of countries in each continent bin), and the sum, mean, and std deviation for the estimated population of each country.\n\n```python\nContinentDict  = {'China':'Asia', \n                  'United States':'North America', \n                  'Japan':'Asia', \n                  'United Kingdom':'Europe', \n                  'Russian Federation':'Europe', \n                  'Canada':'North America', \n                  'Germany':'Europe', \n                  'India':'Asia',\n                  'France':'Europe', \n                  'South Korea':'Asia', \n                  'Italy':'Europe', \n                  'Spain':'Europe', \n                  'Iran':'Asia',\n                  'Australia':'Australia', \n                  'Brazil':'South America'}\n```\n\n*This function should return a DataFrame with index named Continent `['Asia', 'Australia', 'Europe', 'North America', 'South America']` and columns `['size', 'sum', 'mean', 'std']`*"
    },
    {
      "metadata": {
        "umich_part_id": "019",
        "umich_partlist_id": "003",
        "trusted": true
      },
      "cell_type": "code",
      "source": "def answer_eleven():\n    Top15 = answer_one()\n    ContinentDict  = {'China':'Asia', \n                  'United States':'North America', \n                  'Japan':'Asia', \n                  'United Kingdom':'Europe', \n                  'Russian Federation':'Europe', \n                  'Canada':'North America', \n                  'Germany':'Europe', \n                  'India':'Asia',\n                  'France':'Europe', \n                  'South Korea':'Asia', \n                  'Italy':'Europe', \n                  'Spain':'Europe', \n                  'Iran':'Asia',\n                  'Australia':'Australia', \n                  'Brazil':'South America'}\n    \n    Top15['PopEst'] = Top15['Energy Supply'] / Top15['Energy Supply per Capita']    \n    a = pd.DataFrame(columns = ['size', 'sum', 'mean', 'std'])\n    \n    for continent, values in Top15.groupby(ContinentDict):\n        a.loc[continent] = [len(values['PopEst']), values['PopEst'].sum(), values['PopEst'].mean(), values['PopEst'].std()]\n    \n    return a\n\nanswer_eleven()",
      "execution_count": null,
      "outputs": []
    },
    {
      "metadata": {},
      "cell_type": "markdown",
      "source": "### Question 12 (6.6%)\nCut % Renewable into 5 bins. Group Top15 by the Continent, as well as these new % Renewable bins. How many countries are in each of these groups?\n\n*This function should return a __Series__ with a MultiIndex of `Continent`, then the bins for `% Renewable`. Do not include groups with no countries.*"
    },
    {
      "metadata": {
        "scrolled": true,
        "trusted": true
      },
      "cell_type": "code",
      "source": "def answer_twelve():\n    Top15 = answer_one()\n    ContinentDict  = {'China':'Asia', \n                  'United States':'North America', \n                  'Japan':'Asia', \n                  'United Kingdom':'Europe', \n                  'Russian Federation':'Europe', \n                  'Canada':'North America', \n                  'Germany':'Europe', \n                  'India':'Asia',\n                  'France':'Europe', \n                  'South Korea':'Asia', \n                  'Italy':'Europe', \n                  'Spain':'Europe', \n                  'Iran':'Asia',\n                  'Australia':'Australia', \n                  'Brazil':'South America'}\n    \n    Top15['Continent'] = [ContinentDict[index] for index in Top15.index]\n    Top15['bins'] = pd.cut(Top15['% Renewable'], 5)\n    return Top15.groupby(['Continent','bins']).size()\n\nanswer_twelve()",
      "execution_count": null,
      "outputs": []
    },
    {
      "metadata": {},
      "cell_type": "markdown",
      "source": "### Question 13 (6.6%)\nConvert the Population Estimate series to a string with thousands separator (using commas). Do not round the results.\n\ne.g. 317615384.61538464 -> 317,615,384.61538464\n\n*This function should return a Series `PopEst` whose index is the country name and whose values are the population estimate string.*"
    },
    {
      "metadata": {
        "scrolled": true,
        "umich_part_id": "020",
        "umich_partlist_id": "003",
        "trusted": true
      },
      "cell_type": "code",
      "source": "def answer_thirteen():\n    Top15 = answer_one()\n    Top15['PopEst'] = (Top15['Energy Supply'] / Top15['Energy Supply per Capita']).astype(float)\n    return Top15['PopEst'].apply(lambda x: '{:,}'.format(x))\n\nanswer_thirteen()",
      "execution_count": null,
      "outputs": []
    },
    {
      "metadata": {},
      "cell_type": "markdown",
      "source": "### Optional\n\nUse the built in function `plot_optional()` to see an example visualization."
    },
    {
      "metadata": {
        "scrolled": true,
        "trusted": true
      },
      "cell_type": "code",
      "source": "def plot_optional():\n    import matplotlib as plt\n    %matplotlib inline\n    Top15 = answer_one()\n    ax = Top15.plot(x='Rank', y='% Renewable', kind='scatter', \n                    c=['#e41a1c','#377eb8','#e41a1c','#4daf4a','#4daf4a','#377eb8','#4daf4a','#e41a1c',\n                       '#4daf4a','#e41a1c','#4daf4a','#4daf4a','#e41a1c','#dede00','#ff7f00'], \n                    xticks=range(1,16), s=6*Top15['2014']/10**10, alpha=.75, figsize=[16,6]);\n\n    for i, txt in enumerate(Top15.index):\n        ax.annotate(txt, [Top15['Rank'][i], Top15['% Renewable'][i]], ha='center')\n\n    print(\"This is an example of a visualization that can be created to help understand the data. \\\nThis is a bubble chart showing % Renewable vs. Rank. The size of the bubble corresponds to the countries' \\\n2014 GDP, and the color corresponds to the continent.\")",
      "execution_count": null,
      "outputs": []
    },
    {
      "metadata": {
        "trusted": true
      },
      "cell_type": "code",
      "source": "#plot_optional() # Be sure to comment out plot_optional() before submitting the assignment!",
      "execution_count": null,
      "outputs": []
    }
  ],
  "metadata": {
    "anaconda-cloud": {},
    "coursera": {
      "course_slug": "python-data-analysis",
      "graded_item_id": "zAr06",
      "launcher_item_id": "KSSjT",
      "part_id": "SL3fU"
    },
    "kernelspec": {
      "name": "python3",
      "display_name": "Python 3",
      "language": "python"
    },
    "umich": {
      "id": "Assignment 3",
      "version": "1.5"
    },
    "language_info": {
      "mimetype": "text/x-python",
      "nbconvert_exporter": "python",
      "name": "python",
      "pygments_lexer": "ipython3",
      "version": "3.5.4",
      "file_extension": ".py",
      "codemirror_mode": {
        "version": 3,
        "name": "ipython"
      }
    }
  },
  "nbformat": 4,
  "nbformat_minor": 2
}
